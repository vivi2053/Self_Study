{
 "cells": [
  {
   "cell_type": "code",
   "execution_count": 1,
   "metadata": {},
   "outputs": [],
   "source": [
    "#### 71. Consider an array of dimension (5,5,3), how to mulitply it by an array with dimensions (5,5)? (★★★)\n",
    "\n",
    "#### 72. How to swap two rows of an array? (★★★)\n",
    "\n",
    "#### 73. Consider a set of 10 triplets describing 10 triangles (with shared vertices), find the set of unique line segments composing all the  triangles (★★★)\n",
    "\n",
    "#### 74. Given a sorted array C that corresponds to a bincount, how to produce an array A such that np.bincount(A) == C? (★★★)\n",
    "\n",
    "#### 75. How to compute averages using a sliding window over an array? (★★★)\n",
    "\n",
    "#### 76. Consider a one-dimensional array Z, build a two-dimensional array whose first row is (Z[0],Z[1],Z[2]) and each subsequent row is  shifted by 1 (last row should be (Z[-3],Z[-2],Z[-1]) (★★★)\n",
    "\n",
    "#### 77. How to negate a boolean, or to change the sign of a float inplace? (★★★)\n",
    "\n",
    "#### 78. Consider 2 sets of points P0,P1 describing lines (2d) and a point p, how to compute distance from p to each line i (P0[i],P1[i])? (★★★)\n",
    "\n",
    "#### 79. Consider 2 sets of points P0,P1 describing lines (2d) and a set of points P, how to compute distance from each point j (P[j]) to each line i (P0[i],P1[i])? (★★★)\n",
    "\n",
    "#### 80. Consider an arbitrary array, write a function that extract a subpart with a fixed shape and centered on a given element (pad with a `fill` value when necessary) (★★★)"
   ]
  },
  {
   "cell_type": "code",
   "execution_count": 60,
   "metadata": {},
   "outputs": [],
   "source": [
    "import numpy as np\n",
    "np.set_printoptions(precision=4)"
   ]
  },
  {
   "cell_type": "code",
   "execution_count": 15,
   "metadata": {},
   "outputs": [
    {
     "name": "stdout",
     "output_type": "stream",
     "text": [
      "[[2. 2. 2. 2. 2.]\n",
      " [2. 2. 2. 2. 2.]\n",
      " [2. 2. 2. 2. 2.]\n",
      " [2. 2. 2. 2. 2.]\n",
      " [2. 2. 2. 2. 2.]]\n",
      "[[[2. 2. 2.]\n",
      "  [2. 2. 2.]\n",
      "  [2. 2. 2.]\n",
      "  [2. 2. 2.]\n",
      "  [2. 2. 2.]]\n",
      "\n",
      " [[2. 2. 2.]\n",
      "  [2. 2. 2.]\n",
      "  [2. 2. 2.]\n",
      "  [2. 2. 2.]\n",
      "  [2. 2. 2.]]\n",
      "\n",
      " [[2. 2. 2.]\n",
      "  [2. 2. 2.]\n",
      "  [2. 2. 2.]\n",
      "  [2. 2. 2.]\n",
      "  [2. 2. 2.]]\n",
      "\n",
      " [[2. 2. 2.]\n",
      "  [2. 2. 2.]\n",
      "  [2. 2. 2.]\n",
      "  [2. 2. 2.]\n",
      "  [2. 2. 2.]]\n",
      "\n",
      " [[2. 2. 2.]\n",
      "  [2. 2. 2.]\n",
      "  [2. 2. 2.]\n",
      "  [2. 2. 2.]\n",
      "  [2. 2. 2.]]]\n"
     ]
    }
   ],
   "source": [
    "#71\n",
    "a = np.ones((5, 5, 3))\n",
    "b = 2*np.ones((5, 5))\n",
    "print(b)\n",
    "\n",
    "print(a * b[:,:, None])"
   ]
  },
  {
   "cell_type": "code",
   "execution_count": 20,
   "metadata": {},
   "outputs": [
    {
     "data": {
      "text/plain": [
       "array([[ 4,  5,  6,  7],\n",
       "       [ 0,  1,  2,  3],\n",
       "       [ 8,  9, 10, 11]])"
      ]
     },
     "execution_count": 20,
     "metadata": {},
     "output_type": "execute_result"
    }
   ],
   "source": [
    "#72\n",
    "z = np.arange(12).reshape(3, 4)\n",
    "z[[0, 1]] =  z[[1, 0]]\n",
    "z"
   ]
  },
  {
   "cell_type": "code",
   "execution_count": 21,
   "metadata": {},
   "outputs": [],
   "source": [
    "#73\n"
   ]
  },
  {
   "cell_type": "code",
   "execution_count": 32,
   "metadata": {},
   "outputs": [
    {
     "name": "stdout",
     "output_type": "stream",
     "text": [
      "[0 0 1 1 1 2 2 2 3 3 3 3 4 5 5 6 6 6 7 7 8 8 9 9 9]\n"
     ]
    }
   ],
   "source": [
    "#74\n",
    "C = np.random.randint(0, 5, (10))\n",
    "elems = np.arange(C.shape[0])\n",
    "A = np.repeat(elems, C)\n",
    "print(A)"
   ]
  },
  {
   "cell_type": "code",
   "execution_count": 57,
   "metadata": {},
   "outputs": [
    {
     "name": "stdout",
     "output_type": "stream",
     "text": [
      "[ 2.  3.  4.  5.  6.  7.  8.  9. 10. 11. 12. 13. 14. 15. 16. 17. 18.]\n",
      "[ 1.  2.  3.  4.  5.  6.  7.  8.  9. 10. 11. 12. 13. 14. 15. 16. 17. 18.]\n"
     ]
    }
   ],
   "source": [
    "#75\n",
    "from numpy.lib.stride_tricks import sliding_window_view\n",
    "\n",
    "win_size = 3\n",
    "Z = np.arange(20)\n",
    "cumsum_ = np.cumsum(Z)\n",
    "#soln1\n",
    "rolling_sum = cumsum_[win_size:] - cumsum_[:cumsum_.shape[0]-win_size]\n",
    "print(rolling_sum/3)\n",
    "\n",
    "#soln2\n",
    "slidings = sliding_window_view(Z, win_size)\n",
    "sum_ = np.sum(slidings, axis=1)\n",
    "print(sum_/win_size)"
   ]
  },
  {
   "cell_type": "code",
   "execution_count": 58,
   "metadata": {},
   "outputs": [
    {
     "name": "stdout",
     "output_type": "stream",
     "text": [
      "[[ 0  1  2]\n",
      " [ 1  2  3]\n",
      " [ 2  3  4]\n",
      " [ 3  4  5]\n",
      " [ 4  5  6]\n",
      " [ 5  6  7]\n",
      " [ 6  7  8]\n",
      " [ 7  8  9]\n",
      " [ 8  9 10]\n",
      " [ 9 10 11]\n",
      " [10 11 12]\n",
      " [11 12 13]\n",
      " [12 13 14]\n",
      " [13 14 15]\n",
      " [14 15 16]\n",
      " [15 16 17]\n",
      " [16 17 18]\n",
      " [17 18 19]]\n"
     ]
    }
   ],
   "source": [
    "#76\n",
    "\n",
    "from numpy.lib.stride_tricks import sliding_window_view\n",
    "\n",
    "win_size = 3\n",
    "Z = np.arange(20)\n",
    "print(sliding_window_view(Z, win_size))"
   ]
  },
  {
   "cell_type": "code",
   "execution_count": 68,
   "metadata": {},
   "outputs": [
    {
     "name": "stdout",
     "output_type": "stream",
     "text": [
      "[[-9.696  -4.9309 -1.349   6.32  ]\n",
      " [-0.0304  3.5714  2.8562 -1.85  ]\n",
      " [-7.9114 -0.9086 -7.0842  5.1529]]\n",
      "[[ 9.696   4.9309  1.349  -6.32  ]\n",
      " [ 0.0304 -3.5714 -2.8562  1.85  ]\n",
      " [ 7.9114  0.9086  7.0842 -5.1529]]\n",
      "[[False False  True  True]\n",
      " [ True  True False False]\n",
      " [False False False  True]]\n",
      "[[ True  True False False]\n",
      " [False False  True  True]\n",
      " [ True  True  True False]]\n"
     ]
    }
   ],
   "source": [
    "#77\n",
    "\n",
    "z = np.random.uniform(-10, 10, (3, 4))\n",
    "print(z)\n",
    "np.negative(z, out=z)\n",
    "print(z)\n",
    "\n",
    "z_ = np.random.randint(0, 2, (3, 4)).astype(np.bool8)\n",
    "print(z_)\n",
    "np.logical_not(z_, out=z_)\n",
    "print(z_)"
   ]
  },
  {
   "cell_type": "code",
   "execution_count": 73,
   "metadata": {},
   "outputs": [
    {
     "name": "stdout",
     "output_type": "stream",
     "text": [
      "[7.3817 9.5381 3.5766 9.8432 4.7178 2.0845 0.3593 1.6612 3.7565 9.167 ]\n"
     ]
    }
   ],
   "source": [
    "#78\n",
    "\n",
    "def distance(P0, P1, p):\n",
    "    T = P1 - P0\n",
    "    L = (T**2).sum(axis=1)\n",
    "    U = -((P0[:,0]-p[...,0])*T[:,0] + (P0[:,1]-p[...,1])*T[:,1]) / L\n",
    "    U = U.reshape(len(U),1)\n",
    "    D = P0 + U*T - p\n",
    "    return np.sqrt((D**2).sum(axis=1))\n",
    "\n",
    "P0 = np.random.uniform(-10,10,(10,2))\n",
    "P1 = np.random.uniform(-10,10,(10,2))\n",
    "p  = np.random.uniform(-10,10,( 1,2))\n",
    "print(distance(P0, P1, p))\n"
   ]
  },
  {
   "cell_type": "code",
   "execution_count": 75,
   "metadata": {},
   "outputs": [
    {
     "name": "stdout",
     "output_type": "stream",
     "text": [
      "[[10.7745  3.9662  4.4573  3.1648  2.0026 12.9727  8.0031  8.3389 11.208\n",
      "   3.0708]\n",
      " [ 6.7905  0.8699  1.1438  2.1764  3.5558 10.7694  3.9795  9.2506  9.4776\n",
      "   3.9663]\n",
      " [ 2.5569  7.055   0.0357  3.7147  3.9253  2.2559 15.3544  5.6006  4.1428\n",
      "  10.8875]\n",
      " [ 1.6285  4.568   1.2762  0.0687  4.4534  4.0062  9.1221  1.979   2.4791\n",
      "   3.3087]\n",
      " [ 6.9099  1.9986  6.5807  7.7046  3.2971  6.6902 15.0834  0.2581  4.4848\n",
      "   5.007 ]\n",
      " [ 5.3887  3.2833  5.0898  6.5968  7.2594 11.0779  0.3072 11.9149 10.1876\n",
      "   6.6201]\n",
      " [ 3.4593  8.2015  1.3747  2.3226  5.3098  2.6773 14.2371  5.226   4.4402\n",
      "  10.517 ]\n",
      " [ 2.4148  9.0469  5.7697  3.82    9.0407  1.117   6.7696  1.4915  0.072\n",
      "   3.8097]\n",
      " [ 1.5547  7.273   8.6368  9.3657 10.9775  7.9464  1.5001 10.6055  7.2918\n",
      "   5.2996]\n",
      " [ 0.8754  6.4598  1.6122  0.808   5.1292  0.8748 11.2214  1.2257  0.7341\n",
      "   6.5157]]\n"
     ]
    }
   ],
   "source": [
    "#79\n",
    "P0 = np.random.uniform(-10, 10, (10,2))\n",
    "P1 = np.random.uniform(-10,10,(10,2))\n",
    "p = np.random.uniform(-10, 10, (10,2))\n",
    "print(np.array([distance(P0,P1,p_i) for p_i in p]))"
   ]
  },
  {
   "cell_type": "code",
   "execution_count": 89,
   "metadata": {},
   "outputs": [
    {
     "ename": "IndexError",
     "evalue": "only integers, slices (`:`), ellipsis (`...`), numpy.newaxis (`None`) and integer or boolean arrays are valid indices",
     "output_type": "error",
     "traceback": [
      "\u001b[0;31m---------------------------------------------------------------------------\u001b[0m",
      "\u001b[0;31mIndexError\u001b[0m                                Traceback (most recent call last)",
      "\u001b[1;32m/Users/vipul/Documents/Personal/Personal_Projects/Self Study/NumPy_100/Second_Try_Apr_2023/problems_71_80.ipynb Cell 12\u001b[0m in \u001b[0;36m2\n\u001b[1;32m     <a href='vscode-notebook-cell:/Users/vipul/Documents/Personal/Personal_Projects/Self%20Study/NumPy_100/Second_Try_Apr_2023/problems_71_80.ipynb#X14sZmlsZQ%3D%3D?line=21'>22</a>\u001b[0m r \u001b[39m=\u001b[39m [\u001b[39mslice\u001b[39m(start,stop) \u001b[39mfor\u001b[39;00m start,stop \u001b[39min\u001b[39;00m \u001b[39mzip\u001b[39m(R_start,R_stop)]\n\u001b[1;32m     <a href='vscode-notebook-cell:/Users/vipul/Documents/Personal/Personal_Projects/Self%20Study/NumPy_100/Second_Try_Apr_2023/problems_71_80.ipynb#X14sZmlsZQ%3D%3D?line=22'>23</a>\u001b[0m z \u001b[39m=\u001b[39m [\u001b[39mslice\u001b[39m(start,stop) \u001b[39mfor\u001b[39;00m start,stop \u001b[39min\u001b[39;00m \u001b[39mzip\u001b[39m(Z_start,Z_stop)]\n\u001b[0;32m---> <a href='vscode-notebook-cell:/Users/vipul/Documents/Personal/Personal_Projects/Self%20Study/NumPy_100/Second_Try_Apr_2023/problems_71_80.ipynb#X14sZmlsZQ%3D%3D?line=23'>24</a>\u001b[0m R[r] \u001b[39m=\u001b[39m Z[z]\n\u001b[1;32m     <a href='vscode-notebook-cell:/Users/vipul/Documents/Personal/Personal_Projects/Self%20Study/NumPy_100/Second_Try_Apr_2023/problems_71_80.ipynb#X14sZmlsZQ%3D%3D?line=24'>25</a>\u001b[0m \u001b[39mprint\u001b[39m(Z)\n\u001b[1;32m     <a href='vscode-notebook-cell:/Users/vipul/Documents/Personal/Personal_Projects/Self%20Study/NumPy_100/Second_Try_Apr_2023/problems_71_80.ipynb#X14sZmlsZQ%3D%3D?line=25'>26</a>\u001b[0m \u001b[39mprint\u001b[39m(R)\n",
      "\u001b[0;31mIndexError\u001b[0m: only integers, slices (`:`), ellipsis (`...`), numpy.newaxis (`None`) and integer or boolean arrays are valid indices"
     ]
    }
   ],
   "source": [
    "#80\n",
    "Z = np.random.randint(0,10,(10,10))\n",
    "shape = (5,5)\n",
    "fill  = 0\n",
    "position = (1,1)\n",
    "\n",
    "R = np.ones(shape, dtype=Z.dtype)*fill #(5, 5) all 0s\n",
    "P  = np.array(list(position)).astype(int) #[1 1] (2)\n",
    "Rs = np.array(list(R.shape)).astype(int)#[5 5]\n",
    "Zs = np.array(list(Z.shape)).astype(int)#[10 10]\n",
    "\n",
    "R_start = np.zeros((len(shape),)).astype(int)\n",
    "R_stop  = np.array(list(shape)).astype(int)\n",
    "Z_start = (P-Rs//2)\n",
    "Z_stop  = (P+Rs//2)+Rs%2\n",
    "\n",
    "R_start = (R_start - np.minimum(Z_start,0)).tolist()\n",
    "Z_start = (np.maximum(Z_start,0)).tolist()\n",
    "R_stop = np.maximum(R_start, (R_stop - np.maximum(Z_stop-Zs,0))).tolist()\n",
    "Z_stop = (np.minimum(Z_stop,Zs)).tolist()\n",
    "\n",
    "r = [slice(start,stop) for start,stop in zip(R_start,R_stop)]\n",
    "z = [slice(start,stop) for start,stop in zip(Z_start,Z_stop)]\n",
    "R[r] = Z[z]\n",
    "print(Z)\n",
    "print(R)"
   ]
  },
  {
   "cell_type": "code",
   "execution_count": null,
   "metadata": {},
   "outputs": [],
   "source": []
  }
 ],
 "metadata": {
  "kernelspec": {
   "display_name": "base",
   "language": "python",
   "name": "python3"
  },
  "language_info": {
   "codemirror_mode": {
    "name": "ipython",
    "version": 3
   },
   "file_extension": ".py",
   "mimetype": "text/x-python",
   "name": "python",
   "nbconvert_exporter": "python",
   "pygments_lexer": "ipython3",
   "version": "3.9.12"
  },
  "orig_nbformat": 4
 },
 "nbformat": 4,
 "nbformat_minor": 2
}
