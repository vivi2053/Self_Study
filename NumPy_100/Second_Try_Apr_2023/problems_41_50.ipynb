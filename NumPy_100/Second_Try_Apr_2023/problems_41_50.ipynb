{
 "cells": [
  {
   "cell_type": "code",
   "execution_count": 1,
   "metadata": {},
   "outputs": [],
   "source": [
    "#### 41. How to sum a small array faster than np.sum? (★★☆)\n",
    "#### 42. Consider two random array A and B, check if they are equal (★★☆)\n",
    "#### 43. Make an array immutable (read-only) (★★☆)\n",
    "#### 44. Consider a random 10x2 matrix representing cartesian coordinates, convert them to polar coordinates (★★☆)\n",
    "#### 45. Create random vector of size 10 and replace the maximum value by 0 (★★☆)\n",
    "#### 46. Create a structured array with `x` and `y` coordinates covering the [0,1]x[0,1] area (★★☆)\n",
    "#### 47. Given two arrays, X and Y, construct the Cauchy matrix C (Cij =1/(xi - yj)) (★★☆)\n",
    "#### 48. Print the minimum and maximum representable value for each numpy scalar type (★★☆)\n",
    "#### 49. How to print all the values of an array? (★★☆)\n",
    "#### 50. How to find the closest value (to a given scalar) in a vector? (★★☆)"
   ]
  },
  {
   "cell_type": "code",
   "execution_count": 3,
   "metadata": {},
   "outputs": [],
   "source": [
    "import numpy as np"
   ]
  },
  {
   "cell_type": "code",
   "execution_count": 55,
   "metadata": {},
   "outputs": [],
   "source": [
    "#41\n",
    "\n",
    "z = np.random.uniform(0, 10, 200)"
   ]
  },
  {
   "cell_type": "code",
   "execution_count": 59,
   "metadata": {},
   "outputs": [
    {
     "name": "stdout",
     "output_type": "stream",
     "text": [
      "CPU times: user 4 µs, sys: 1e+03 ns, total: 5 µs\n",
      "Wall time: 8.82 µs\n"
     ]
    },
    {
     "data": {
      "text/plain": [
       "1002.2459520396642"
      ]
     },
     "execution_count": 59,
     "metadata": {},
     "output_type": "execute_result"
    }
   ],
   "source": [
    "%time\n",
    "np.sum(z)"
   ]
  },
  {
   "cell_type": "code",
   "execution_count": 60,
   "metadata": {},
   "outputs": [
    {
     "name": "stdout",
     "output_type": "stream",
     "text": [
      "CPU times: user 3 µs, sys: 1 µs, total: 4 µs\n",
      "Wall time: 6.91 µs\n"
     ]
    },
    {
     "data": {
      "text/plain": [
       "1002.2459520396642"
      ]
     },
     "execution_count": 60,
     "metadata": {},
     "output_type": "execute_result"
    }
   ],
   "source": [
    "%time\n",
    "np.add.reduce(z)"
   ]
  },
  {
   "cell_type": "code",
   "execution_count": 61,
   "metadata": {},
   "outputs": [
    {
     "name": "stdout",
     "output_type": "stream",
     "text": [
      "CPU times: user 2 µs, sys: 1 µs, total: 3 µs\n",
      "Wall time: 5.72 µs\n"
     ]
    },
    {
     "data": {
      "text/plain": [
       "1002.2459520396637"
      ]
     },
     "execution_count": 61,
     "metadata": {},
     "output_type": "execute_result"
    }
   ],
   "source": [
    "%time\n",
    "sum(z)"
   ]
  },
  {
   "cell_type": "code",
   "execution_count": 67,
   "metadata": {},
   "outputs": [
    {
     "name": "stdout",
     "output_type": "stream",
     "text": [
      "False\n",
      "False\n"
     ]
    }
   ],
   "source": [
    "#42\n",
    "a = np.random.uniform(0, 10, (4, 5))\n",
    "b = np.random.uniform(0, 10, (4, 5))\n",
    "\n",
    "#soln1\n",
    "print(np.array_equal(a, b))\n",
    "\n",
    "#soln2\n",
    "print(np.allclose(a, b))"
   ]
  },
  {
   "cell_type": "code",
   "execution_count": 69,
   "metadata": {},
   "outputs": [
    {
     "ename": "ValueError",
     "evalue": "assignment destination is read-only",
     "output_type": "error",
     "traceback": [
      "\u001b[0;31m---------------------------------------------------------------------------\u001b[0m",
      "\u001b[0;31mValueError\u001b[0m                                Traceback (most recent call last)",
      "\u001b[1;32m/Users/vipul/Documents/Personal/Personal_Projects/Self Study/NumPy_100/Second_Try_Apr_2023/problems_41_50.ipynb Cell 8\u001b[0m in \u001b[0;36m5\n\u001b[1;32m      <a href='vscode-notebook-cell:/Users/vipul/Documents/Personal/Personal_Projects/Self%20Study/NumPy_100/Second_Try_Apr_2023/problems_41_50.ipynb#X10sZmlsZQ%3D%3D?line=2'>3</a>\u001b[0m z \u001b[39m=\u001b[39m np\u001b[39m.\u001b[39mrandom\u001b[39m.\u001b[39mrand(\u001b[39m4\u001b[39m, \u001b[39m5\u001b[39m)\n\u001b[1;32m      <a href='vscode-notebook-cell:/Users/vipul/Documents/Personal/Personal_Projects/Self%20Study/NumPy_100/Second_Try_Apr_2023/problems_41_50.ipynb#X10sZmlsZQ%3D%3D?line=3'>4</a>\u001b[0m z\u001b[39m.\u001b[39mflags\u001b[39m.\u001b[39mwriteable \u001b[39m=\u001b[39m \u001b[39mFalse\u001b[39;00m\n\u001b[0;32m----> <a href='vscode-notebook-cell:/Users/vipul/Documents/Personal/Personal_Projects/Self%20Study/NumPy_100/Second_Try_Apr_2023/problems_41_50.ipynb#X10sZmlsZQ%3D%3D?line=4'>5</a>\u001b[0m z[\u001b[39m0\u001b[39;49m] \u001b[39m=\u001b[39m \u001b[39m1\u001b[39m \u001b[39m#ValueError\u001b[39;00m\n",
      "\u001b[0;31mValueError\u001b[0m: assignment destination is read-only"
     ]
    }
   ],
   "source": [
    "#43\n",
    "\n",
    "z = np.random.rand(4, 5)\n",
    "z.flags.writeable = False\n",
    "z[0] = 1 #ValueError"
   ]
  },
  {
   "cell_type": "code",
   "execution_count": 89,
   "metadata": {},
   "outputs": [
    {
     "name": "stdout",
     "output_type": "stream",
     "text": [
      "[[-1.74314455 -2.62244066]\n",
      " [-3.8647911   0.41201101]\n",
      " [-5.70540693 -2.94549425]\n",
      " [ 0.5089293   8.93544835]\n",
      " [ 5.03786574 -5.47529385]\n",
      " [-1.56001322 -6.51432397]\n",
      " [ 0.99760828 -7.71341762]\n",
      " [ 9.45389041  6.2652983 ]\n",
      " [-2.14998066 -4.12709879]\n",
      " [ 5.30902951  0.57931209]]\n",
      "[[ 3.14892806  0.98415432]\n",
      " [ 3.88669053 -0.10620516]\n",
      " [ 6.42087257  0.47657372]\n",
      " [ 8.94992996  1.51390158]\n",
      " [ 7.44035846 -0.82698185]\n",
      " [ 6.69851163  1.33574847]\n",
      " [ 7.77766248 -1.44217617]\n",
      " [11.34151695  0.5852665 ]\n",
      " [ 4.65353212  1.09053552]\n",
      " [ 5.34054275  0.10868825]]\n"
     ]
    }
   ],
   "source": [
    "#44\n",
    "\n",
    "z_carte  = np.random.uniform(-10, 10, (10, 2))\n",
    "x, y = z_carte[:, 0], z_carte[:, 1]\n",
    "print(z_carte)\n",
    "\n",
    "r = np.expand_dims(np.sqrt(x**2 + y**2), axis=1)\n",
    "theta = np.expand_dims(np.arctan(y/x), axis=1)\n",
    "\n",
    "z_polar = np.concatenate([r, theta], axis=-1)\n",
    "print(z_polar)"
   ]
  },
  {
   "cell_type": "code",
   "execution_count": 95,
   "metadata": {},
   "outputs": [
    {
     "name": "stdout",
     "output_type": "stream",
     "text": [
      "[-0.10440592  6.99065358  3.8059948  -9.84686849  5.76586007  9.48892727\n",
      "  0.36424121 -8.89626677 -3.87497097  8.6444331 ]\n",
      "[-0.10440592  6.99065358  3.8059948  -9.84686849  5.76586007  0.\n",
      "  0.36424121 -8.89626677 -3.87497097  8.6444331 ]\n"
     ]
    }
   ],
   "source": [
    "#45\n",
    "\n",
    "z = np.random.uniform(-10, 10, 10)\n",
    "print(z)\n",
    "z[np.argmax(z)] = 0\n",
    "print(z)\n"
   ]
  },
  {
   "cell_type": "code",
   "execution_count": 108,
   "metadata": {},
   "outputs": [
    {
     "name": "stdout",
     "output_type": "stream",
     "text": [
      "[[(0.  , 0.  ) (0.25, 0.  ) (0.5 , 0.  ) (0.75, 0.  ) (1.  , 0.  )]\n",
      " [(0.  , 0.25) (0.25, 0.25) (0.5 , 0.25) (0.75, 0.25) (1.  , 0.25)]\n",
      " [(0.  , 0.5 ) (0.25, 0.5 ) (0.5 , 0.5 ) (0.75, 0.5 ) (1.  , 0.5 )]\n",
      " [(0.  , 0.75) (0.25, 0.75) (0.5 , 0.75) (0.75, 0.75) (1.  , 0.75)]\n",
      " [(0.  , 1.  ) (0.25, 1.  ) (0.5 , 1.  ) (0.75, 1.  ) (1.  , 1.  )]]\n"
     ]
    },
    {
     "name": "stderr",
     "output_type": "stream",
     "text": [
      "/var/folders/zw/8cs3hp9s53q_p69tftz7xhwr0000gq/T/ipykernel_83913/538764345.py:3: DeprecationWarning: `np.float` is a deprecated alias for the builtin `float`. To silence this warning, use `float` by itself. Doing this will not modify any behavior and is safe. If you specifically wanted the numpy scalar type, use `np.float64` here.\n",
      "Deprecated in NumPy 1.20; for more details and guidance: https://numpy.org/devdocs/release/1.20.0-notes.html#deprecations\n",
      "  new_dtype = np.dtype([('X', np.float), ('Y', np.float)])\n"
     ]
    }
   ],
   "source": [
    "#46\n",
    "\n",
    "new_dtype = np.dtype([('X', np.float), ('Y', np.float)])\n",
    "Z = np.zeros((5, 5), dtype=new_dtype)\n",
    "x = np.linspace(0, 1, 5)\n",
    "y = np.linspace(0, 1, 5)\n",
    "Z['X'], Z['Y'] = np.meshgrid(x, y)\n",
    "print(Z)"
   ]
  },
  {
   "cell_type": "code",
   "execution_count": 127,
   "metadata": {},
   "outputs": [
    {
     "name": "stdout",
     "output_type": "stream",
     "text": [
      "[[ 0.27396198  0.48689815]\n",
      " [-0.28535482 -0.19605026]]\n"
     ]
    }
   ],
   "source": [
    "#47\n",
    "\n",
    "X = np.random.uniform(-10, 10, 2)\n",
    "Y = np.random.uniform(-10, 10, 2)\n",
    "denom = np.subtract.outer(X, Y)\n",
    "print(1/denom)"
   ]
  },
  {
   "cell_type": "code",
   "execution_count": 143,
   "metadata": {},
   "outputs": [
    {
     "name": "stdout",
     "output_type": "stream",
     "text": [
      "127\n",
      "-128\n",
      "65500.0\n",
      "-65500.0\n",
      "0.000977\n"
     ]
    }
   ],
   "source": [
    "#48\n",
    "print(np.iinfo(np.int8).max)\n",
    "print(np.iinfo(np.int8).min)\n",
    "\n",
    "print(np.finfo(np.float16).max)\n",
    "print(np.finfo(np.float16).min)\n",
    "print(np.finfo(np.float16).eps)"
   ]
  },
  {
   "cell_type": "code",
   "execution_count": 151,
   "metadata": {},
   "outputs": [
    {
     "name": "stdout",
     "output_type": "stream",
     "text": [
      "[[0.93377769 0.8806311 ]\n",
      " [0.77477656 0.1231183 ]]\n",
      "[[0.9338 0.8806]\n",
      " [0.7748 0.1231]]\n"
     ]
    }
   ],
   "source": [
    "#49\n",
    "z = np.random.rand(2, 2)\n",
    "print(z)\n",
    "np.set_printoptions(precision=4)\n",
    "print(z)"
   ]
  },
  {
   "cell_type": "code",
   "execution_count": 202,
   "metadata": {},
   "outputs": [
    {
     "name": "stdout",
     "output_type": "stream",
     "text": [
      "[[5.0493 3.6109 2.7412 9.0031 3.0326]\n",
      " [7.978  6.575  4.8438 5.6496 4.6679]\n",
      " [1.4061 2.3744 2.383  3.4952 1.1405]\n",
      " [1.0491 8.7253 5.7038 2.0077 7.2101]]\n",
      "4.667884681555611\n"
     ]
    }
   ],
   "source": [
    "#50\n",
    "\n",
    "find_value = 4.5353\n",
    "z = np.random.uniform(0, 10, (4, 5))\n",
    "print(z)\n",
    "z_diff = z - find_value\n",
    "closest_idx = np.argmin(np.abs(z_diff))\n",
    "closest_idx = np.unravel_index(closest_idx, (4, 5))\n",
    "print(z[closest_idx])"
   ]
  },
  {
   "cell_type": "code",
   "execution_count": null,
   "metadata": {},
   "outputs": [],
   "source": []
  }
 ],
 "metadata": {
  "kernelspec": {
   "display_name": "base",
   "language": "python",
   "name": "python3"
  },
  "language_info": {
   "codemirror_mode": {
    "name": "ipython",
    "version": 3
   },
   "file_extension": ".py",
   "mimetype": "text/x-python",
   "name": "python",
   "nbconvert_exporter": "python",
   "pygments_lexer": "ipython3",
   "version": "3.9.12"
  },
  "orig_nbformat": 4
 },
 "nbformat": 4,
 "nbformat_minor": 2
}
