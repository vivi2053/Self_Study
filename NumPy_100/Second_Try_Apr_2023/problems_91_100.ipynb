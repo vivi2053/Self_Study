{
 "cells": [
  {
   "cell_type": "code",
   "execution_count": 5,
   "metadata": {},
   "outputs": [],
   "source": [
    "#### 91. How to create a record array from a regular array? (★★★)\n",
    "\n",
    "#### 92. Consider a large vector Z, compute Z to the power of 3 using 3 different methods (★★★)\n",
    "\n",
    "#### 93. Consider two arrays A and B of shape (8,3) and (2,2). How to find rows of A that contain elements of each row of B regardless of the order of the elements in B? (★★★)\n",
    "\n",
    "#### 94. Considering a 10x3 matrix, extract rows with unequal values (e.g. [2,2,3]) (★★★)\n",
    "\n",
    "#### 95. Convert a vector of ints into a matrix binary representation (★★★)\n",
    "\n",
    "#### 96. Given a two dimensional array, how to extract unique rows? (★★★)\n",
    "\n",
    "#### 97. Considering 2 vectors A & B, write the einsum equivalent of inner, outer, sum, and mul function (★★★)\n",
    "\n",
    "#### 98. Considering a path described by two vectors (X,Y), how to sample it using equidistant samples (★★★)?\n",
    "\n",
    "#### 99. Given an integer n and a 2D array X, select from X the rows which can be interpreted as draws from a multinomial distribution with n degrees, i.e., the rows which only contain integers and which sum to n. (★★★)\n",
    "\n",
    "#### 100. Compute bootstrapped 95% confidence intervals for the mean of a 1D array X (i.e., resample the elements of an array with replacement N times, compute the mean of each sample, and then compute percentiles over the means). (★★★)"
   ]
  },
  {
   "cell_type": "code",
   "execution_count": 2,
   "metadata": {},
   "outputs": [],
   "source": [
    "import numpy as np\n",
    "np.set_printoptions(precision=4)"
   ]
  },
  {
   "cell_type": "code",
   "execution_count": 14,
   "metadata": {},
   "outputs": [
    {
     "data": {
      "text/plain": [
       "rec.array((b'Vipul', 26, 58.5, 174.9),\n",
       "          dtype=[('name', 'S25'), ('age', 'u1'), ('weight', '<f2'), ('height', '<f2')])"
      ]
     },
     "execution_count": 14,
     "metadata": {},
     "output_type": "execute_result"
    }
   ],
   "source": [
    "#91\n",
    "z = np.array(['Vipul', 26, 58.5, 174.9])\n",
    "record = np.core.records.fromarrays(z, dtype=[('name', 'S25'), ('age', 'u1'), ('weight', 'f2'), ('height', 'f2')])\n",
    "record"
   ]
  },
  {
   "cell_type": "code",
   "execution_count": 22,
   "metadata": {},
   "outputs": [
    {
     "name": "stdout",
     "output_type": "stream",
     "text": [
      "25.2 µs ± 286 ns per loop (mean ± std. dev. of 7 runs, 10,000 loops each)\n",
      "23.6 µs ± 419 ns per loop (mean ± std. dev. of 7 runs, 10,000 loops each)\n",
      "4.01 µs ± 10 ns per loop (mean ± std. dev. of 7 runs, 100,000 loops each)\n"
     ]
    }
   ],
   "source": [
    "#92\n",
    "\n",
    "z = np.random.uniform(-10, 10, (1000))\n",
    "\n",
    "#soln1\n",
    "%timeit z_cube1 = z**3\n",
    "\n",
    "#soln2\n",
    "pow = np.full_like(z, 3)\n",
    "%timeit z_cube2 = np.power(z, pow)\n",
    "\n",
    "#soln3\n",
    "%timeit np.einsum('i,i,i->i', z, z, z)"
   ]
  },
  {
   "cell_type": "code",
   "execution_count": 53,
   "metadata": {},
   "outputs": [
    {
     "name": "stdout",
     "output_type": "stream",
     "text": [
      "[1 6] [[4 1 4]\n",
      " [4 2 0]]\n"
     ]
    }
   ],
   "source": [
    "#93\n",
    "\n",
    "a = np.random.randint(0, 10, (8, 3))\n",
    "b = np.random.randint(0, 5, (2, 2))\n",
    "\n",
    "\n",
    "c = a[..., np.newaxis, np.newaxis] == b\n",
    "rows = np.where(c.any((3, 1)).all(1))[0]\n",
    "print(rows, a[rows])"
   ]
  },
  {
   "cell_type": "code",
   "execution_count": 95,
   "metadata": {},
   "outputs": [
    {
     "name": "stdout",
     "output_type": "stream",
     "text": [
      "[[1 1 0]\n",
      " [0 0 0]\n",
      " [1 0 1]\n",
      " [0 1 0]\n",
      " [1 1 0]\n",
      " [1 1 1]\n",
      " [0 0 1]\n",
      " [1 1 0]\n",
      " [1 0 1]\n",
      " [1 1 0]]\n",
      "(array([0, 2, 3, 4, 6, 7, 8, 9]),)\n",
      "[[1 1 0]\n",
      " [1 0 1]\n",
      " [0 1 0]\n",
      " [1 1 0]\n",
      " [0 0 1]\n",
      " [1 1 0]\n",
      " [1 0 1]\n",
      " [1 1 0]]\n"
     ]
    }
   ],
   "source": [
    "#94\n",
    "\n",
    "z = np.random.randint(0, 2, (10, 3))\n",
    "print(z)\n",
    "z1 = np.expand_dims(z, -1)\n",
    "z1 = np.repeat(z1, 3, axis=-1)\n",
    "z2 = np.expand_dims(z, -2)\n",
    "z2 = np.repeat(z2, 3, axis=-2)\n",
    "# print(z2)\n",
    "c = z1 == z2\n",
    "# print(c.all((2, 1)))\n",
    "diff_rows = np.where(~c.all((2, 1)))\n",
    "print(diff_rows)\n",
    "print(z[diff_rows])"
   ]
  },
  {
   "cell_type": "code",
   "execution_count": 107,
   "metadata": {},
   "outputs": [
    {
     "data": {
      "text/plain": [
       "array([[0, 0, 0, 0, 0, 1, 1, 1],\n",
       "       [0, 0, 0, 0, 0, 1, 1, 0],\n",
       "       [0, 0, 0, 0, 1, 0, 0, 1],\n",
       "       [0, 0, 0, 0, 0, 1, 0, 0],\n",
       "       [0, 0, 0, 0, 0, 1, 0, 1],\n",
       "       [0, 0, 0, 0, 0, 1, 1, 0],\n",
       "       [0, 0, 0, 0, 0, 1, 1, 0],\n",
       "       [0, 0, 0, 0, 0, 0, 1, 1],\n",
       "       [0, 0, 0, 0, 0, 1, 1, 0],\n",
       "       [0, 0, 0, 0, 0, 1, 1, 0]], dtype=uint8)"
      ]
     },
     "execution_count": 107,
     "metadata": {},
     "output_type": "execute_result"
    }
   ],
   "source": [
    "#95\n",
    "\n",
    "z = np.random.randint(0, 10, 10, dtype=np.uint8)\n",
    "z = np.unpackbits(z[..., np.newaxis], axis=1)\n",
    "z"
   ]
  },
  {
   "cell_type": "code",
   "execution_count": 146,
   "metadata": {},
   "outputs": [
    {
     "name": "stdout",
     "output_type": "stream",
     "text": [
      "[[1 0 1]\n",
      " [1 1 0]\n",
      " [1 1 0]\n",
      " [1 0 1]\n",
      " [1 1 0]\n",
      " [1 1 0]\n",
      " [0 1 1]\n",
      " [0 1 1]\n",
      " [0 0 0]\n",
      " [0 0 0]]\n",
      "[[0 0 0]\n",
      " [0 1 1]\n",
      " [1 0 1]\n",
      " [1 1 0]]\n"
     ]
    }
   ],
   "source": [
    "#96\n",
    "\n",
    "z = np.random.randint(0, 2, (10, 3))\n",
    "print(z)\n",
    "z = np.unique(z, axis=0)\n",
    "print(z)\n",
    "\n",
    "# np.where(c.all(2))"
   ]
  },
  {
   "cell_type": "code",
   "execution_count": 89,
   "metadata": {},
   "outputs": [
    {
     "name": "stdout",
     "output_type": "stream",
     "text": [
      "[-10   8   8  -7   2  -5   3  -1   7   6]\n",
      "[ 6  1  8 -8  6 -9  4  5  1 -5]\n",
      "[[-60  48  48 -42  12 -30  18  -6  42  36]\n",
      " [-10   8   8  -7   2  -5   3  -1   7   6]\n",
      " [-80  64  64 -56  16 -40  24  -8  56  48]\n",
      " [ 80 -64 -64  56 -16  40 -24   8 -56 -48]\n",
      " [-60  48  48 -42  12 -30  18  -6  42  36]\n",
      " [ 90 -72 -72  63 -18  45 -27   9 -63 -54]\n",
      " [-40  32  32 -28   8 -20  12  -4  28  24]\n",
      " [-50  40  40 -35  10 -25  15  -5  35  30]\n",
      " [-10   8   8  -7   2  -5   3  -1   7   6]\n",
      " [ 50 -40 -40  35 -10  25 -15   5 -35 -30]]\n",
      "[ -4   9  16 -15   8 -14   7   4   8   1]\n",
      "[-60   8  64  56  12  45  12  -5   7 -30]\n",
      "109\n"
     ]
    }
   ],
   "source": [
    "#97\n",
    "\n",
    "a = np.random.randint(-10, 10, (10))\n",
    "b = np.random.randint(-10, 10, (10))\n",
    "print(a)\n",
    "print(b)\n",
    "#vector product\n",
    "print(np.einsum('j, i -> ij', a, b))\n",
    "#sum\n",
    "print(np.einsum('ij->j', [a, b]))\n",
    "#multiply\n",
    "print(np.einsum('i, i->i', a, b))\n",
    "#dot\n",
    "print(np.einsum('i, i->', a, b))"
   ]
  },
  {
   "cell_type": "code",
   "execution_count": 91,
   "metadata": {},
   "outputs": [],
   "source": [
    "#98\n",
    "\n",
    "phi = np.arange(0, 10*np.pi, 0.1)\n",
    "a = 1\n",
    "x = a*phi*np.cos(phi)\n",
    "y = a*phi*np.sin(phi)\n",
    "\n",
    "dr = (np.diff(x)**2 + np.diff(y)**2)**.5 # segment lengths\n",
    "r = np.zeros_like(x)\n",
    "r[1:] = np.cumsum(dr)                # integrate path\n",
    "r_int = np.linspace(0, r.max(), 200) # regular spaced path\n",
    "x_int = np.interp(r_int, r, x)       # integrate path\n",
    "y_int = np.interp(r_int, r, y)"
   ]
  },
  {
   "cell_type": "code",
   "execution_count": 99,
   "metadata": {},
   "outputs": [
    {
     "name": "stdout",
     "output_type": "stream",
     "text": [
      "[ True  True False]\n",
      "[False  True False]\n",
      "[[2. 0. 1. 1.]]\n"
     ]
    }
   ],
   "source": [
    "#99\n",
    "\n",
    "X = np.asarray([[1.0, 0.0, 3.0, 8.0],\n",
    "                [2.0, 0.0, 1.0, 1.0],\n",
    "                [1.5, 2.5, 1.0, 0.0]])\n",
    "n = 4\n",
    "M = np.logical_and.reduce(np.mod(X, 1) == 0, axis=-1)\n",
    "print(M)\n",
    "M &= (X.sum(axis=-1) == n)\n",
    "print(M)\n",
    "print(X[M])"
   ]
  },
  {
   "cell_type": "code",
   "execution_count": 111,
   "metadata": {},
   "outputs": [
    {
     "name": "stdout",
     "output_type": "stream",
     "text": [
      "0.523888923312389\n",
      "[-0.63    0.5239]\n"
     ]
    }
   ],
   "source": [
    "#100\n",
    "\n",
    "X = np.random.randn(100)\n",
    "N = 1000\n",
    "sample_indices = np.random.randint(0, X.shape[0], (N, 10))\n",
    "samples = X[sample_indices]\n",
    "samples = np.mean(samples, axis=-1)\n",
    "print(np.quantile(samples, 0.975))\n",
    "conf_interval = np.percentile(samples, [2.5, 97.5])\n",
    "print(conf_interval)"
   ]
  },
  {
   "cell_type": "code",
   "execution_count": null,
   "metadata": {},
   "outputs": [],
   "source": []
  }
 ],
 "metadata": {
  "kernelspec": {
   "display_name": "base",
   "language": "python",
   "name": "python3"
  },
  "language_info": {
   "codemirror_mode": {
    "name": "ipython",
    "version": 3
   },
   "file_extension": ".py",
   "mimetype": "text/x-python",
   "name": "python",
   "nbconvert_exporter": "python",
   "pygments_lexer": "ipython3",
   "version": "3.9.12"
  },
  "orig_nbformat": 4
 },
 "nbformat": 4,
 "nbformat_minor": 2
}
