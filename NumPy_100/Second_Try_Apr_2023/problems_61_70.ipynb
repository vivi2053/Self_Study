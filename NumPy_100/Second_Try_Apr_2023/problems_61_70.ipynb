{
 "cells": [
  {
   "cell_type": "code",
   "execution_count": 1,
   "metadata": {},
   "outputs": [],
   "source": [
    "#### 61. Find the nearest value from a given value in an array (★★☆)\n",
    "\n",
    "#### 62. Considering two arrays with shape (1,3) and (3,1), how to compute their sum using an iterator? (★★☆)\n",
    "\n",
    "#### 63. Create an array class that has a name attribute (★★☆)\n",
    "\n",
    "#### 64. Consider a given vector, how to add 1 to each element indexed by a second vector (be careful with repeated indices)? (★★★)\n",
    "\n",
    "#### 65. How to accumulate elements of a vector (X) to an array (F) based on an index list (I)? (★★★)\n",
    "\n",
    "#### 66. Considering a (w,h,3) image of (dtype=ubyte), compute the number of unique colors (★★☆)\n",
    "\n",
    "#### 67. Considering a four dimensions array, how to get sum over the last two axis at once? (★★★)\n",
    "\n",
    "#### 68. Considering a one-dimensional vector D, how to compute means of subsets of D using a vector S of same size describing subset  indices? (★★★)\n",
    "\n",
    "#### 69. How to get the diagonal of a dot product? (★★★)\n",
    "\n",
    "#### 70. Consider the vector [1, 2, 3, 4, 5], how to build a new vector with 3 consecutive zeros interleaved between each value? (★★★)"
   ]
  },
  {
   "cell_type": "code",
   "execution_count": 2,
   "metadata": {},
   "outputs": [],
   "source": [
    "import numpy as np"
   ]
  },
  {
   "cell_type": "code",
   "execution_count": 11,
   "metadata": {},
   "outputs": [
    {
     "name": "stdout",
     "output_type": "stream",
     "text": [
      "[[2.67952215 7.50925142 0.6057732  3.3893961 ]\n",
      " [9.35177461 9.51718957 7.10009676 2.74230876]\n",
      " [9.35761067 8.19060813 3.25040362 5.56161088]]\n"
     ]
    },
    {
     "data": {
      "text/plain": [
       "5.5616108786746485"
      ]
     },
     "execution_count": 11,
     "metadata": {},
     "output_type": "execute_result"
    }
   ],
   "source": [
    "#61\n",
    "\n",
    "z = np.random.uniform(0, 10, (3, 4))\n",
    "given_value = 5.55\n",
    "print(z)\n",
    "diff = z - given_value\n",
    "nearest_idx = np.argmin(np.abs(diff))\n",
    "z[np.unravel_index(nearest_idx, z.shape)]"
   ]
  },
  {
   "cell_type": "code",
   "execution_count": 21,
   "metadata": {},
   "outputs": [
    {
     "name": "stdout",
     "output_type": "stream",
     "text": [
      "[[0.60610538 0.59899433 0.56502029]] [[0.19217073]\n",
      " [0.91228524]\n",
      " [0.45420258]]\n",
      "[[0.79827611 0.79116506 0.75719102]\n",
      " [1.51839062 1.51127957 1.47730553]\n",
      " [1.06030796 1.05319691 1.01922286]]\n"
     ]
    }
   ],
   "source": [
    "#62\n",
    "a = np.random.rand(1, 3)\n",
    "b = np.random.rand(3, 1)\n",
    "it = np.nditer([a, b, None])\n",
    "\n",
    "print(a, b)\n",
    "\n",
    "for x, y, z in it:\n",
    "    z[...] = x + y\n",
    "print(it.operands[2])"
   ]
  },
  {
   "cell_type": "code",
   "execution_count": 43,
   "metadata": {},
   "outputs": [
    {
     "name": "stdout",
     "output_type": "stream",
     "text": [
      "array_chan\n",
      "array_kun\n"
     ]
    }
   ],
   "source": [
    "#63\n",
    "\n",
    "class NamedArray(np.ndarray):\n",
    "\n",
    "    def __new__(subtype, shape, dtype=float, buffer=None, offset=0,\n",
    "                strides=None, order=None, name=None):\n",
    "        obj = super().__new__(subtype, shape, dtype, buffer, offset, strides, order)\n",
    "        obj.name = name\n",
    "        return obj\n",
    "\n",
    "    def __array_finalize__(self, obj):\n",
    "        if obj is None: return\n",
    "        self.info = getattr(obj, 'info', None)\n",
    "\n",
    "n = NamedArray(shape=(3,), name=\"array_chan\")\n",
    "print(n.name)\n",
    "\n",
    "\n",
    "class NamedArray2(np.ndarray):\n",
    "\n",
    "    def __new__(cls, array_, name=None):\n",
    "        obj = np.asarray(array_).view(cls)\n",
    "        obj.name = name\n",
    "        return obj\n",
    "    \n",
    "    def __array_finalize__(self, obj):\n",
    "        if obj is None: return\n",
    "        self.info = getattr(obj, 'info', None)\n",
    "\n",
    "n2 = NamedArray2(np.arange(3), \"array_kun\")\n",
    "print(n2.name)"
   ]
  },
  {
   "cell_type": "code",
   "execution_count": 76,
   "metadata": {},
   "outputs": [
    {
     "name": "stdout",
     "output_type": "stream",
     "text": [
      "[[ 4.03971227 13.93214355 14.95071211  2.15778468 15.70152771]\n",
      " [ 8.83705068  8.2596909   6.06038863 16.203841   17.44152139]\n",
      " [ 6.65075754 21.85336401 11.60908341 22.52992419 21.69857083]\n",
      " [23.40050319  6.61799072 21.07637252 17.84460859  6.59499275]]\n"
     ]
    }
   ],
   "source": [
    "#64\n",
    "\n",
    "#soln1\n",
    "z = np.random.uniform(0, 20, (4, 5))\n",
    "ones = np.ones_like(z)\n",
    "x, y = z.shape\n",
    "\n",
    "add_places = 5\n",
    "add_idx1 = np.random.randint(0, x, (add_places, 1))\n",
    "add_idx2 = np.random.randint(0, x, (add_places, 1))\n",
    "add_idx = np.concatenate([add_idx1, add_idx2], axis=-1)\n",
    "\n",
    "#soln1 ignores repeated indices\n",
    "# z[add_idx1, add_idx2] += 1\n",
    "# print(z)\n",
    "\n",
    "#soln2 best solution\n",
    "z = np.random.uniform(0, 20, (4, 5))\n",
    "np.add.at(z, add_idx, 1)\n",
    "print(z)\n",
    "\n",
    "#soln3 for 1d arrays\n",
    "# z = np.random.uniform(0, 20, (20))\n",
    "# indices = np.random.randint(0, 20, 10)\n",
    "# z+=np.bincount(indices, minlength=20)\n",
    "# print(z)"
   ]
  },
  {
   "cell_type": "code",
   "execution_count": 83,
   "metadata": {},
   "outputs": [
    {
     "name": "stdout",
     "output_type": "stream",
     "text": [
      "[4 8 2 5 4 4 5 6 6 6]\n",
      "[10  8 12  6 19 15 10 10  1 10]\n"
     ]
    },
    {
     "data": {
      "text/plain": [
       "array([ 0.,  6.,  0.,  0.,  0.,  0.,  5.,  0.,  8.,  0., 21.,  0.,  2.,\n",
       "        0.,  0.,  4.,  0.,  0.,  0.,  4.])"
      ]
     },
     "execution_count": 83,
     "metadata": {},
     "output_type": "execute_result"
    }
   ],
   "source": [
    "#65\n",
    "x = np.random.randint(0, 10, 10)\n",
    "indices = np.random.randint(0, 20, 10)\n",
    "print(x)\n",
    "print(indices)\n",
    "np.bincount(indices, weights=x)"
   ]
  },
  {
   "cell_type": "code",
   "execution_count": 113,
   "metadata": {},
   "outputs": [
    {
     "name": "stdout",
     "output_type": "stream",
     "text": [
      "(47, 3)\n"
     ]
    }
   ],
   "source": [
    "#66\n",
    "w, h = 10, 9\n",
    "shape_ = (w, h, 3)\n",
    "image = np.random.randint(0, 4, shape_).astype(np.ubyte)\n",
    "print(np.unique(image.reshape(-1, 3), axis=0).shape)"
   ]
  },
  {
   "cell_type": "code",
   "execution_count": 123,
   "metadata": {},
   "outputs": [
    {
     "name": "stdout",
     "output_type": "stream",
     "text": [
      "[[ 9.50425245 11.29749312  9.27709638]\n",
      " [ 7.27106     9.88854223  9.12009483]]\n",
      "[[ 9.50425245 11.29749312  9.27709638]\n",
      " [ 7.27106     9.88854223  9.12009483]]\n"
     ]
    }
   ],
   "source": [
    "#67\n",
    "\n",
    "z = np.random.rand(2, 3, 4, 5)\n",
    "print(z.sum(axis=(-1, -2)))\n",
    "print(z.sum(axis=(-2, -1)))"
   ]
  },
  {
   "cell_type": "code",
   "execution_count": 16,
   "metadata": {},
   "outputs": [
    {
     "name": "stdout",
     "output_type": "stream",
     "text": [
      "[5.         2.125      4.66666667 5.         3.         4.5\n",
      " 6.5        4.         3.66666667 4.625     ]\n"
     ]
    }
   ],
   "source": [
    "#68\n",
    "\n",
    "z = np.random.randint(0, 10, 50)\n",
    "i = np.random.randint(0, 10, 50)\n",
    "d = np.bincount(i, z)\n",
    "b = np.bincount(i)\n",
    "print(d/b)"
   ]
  },
  {
   "cell_type": "code",
   "execution_count": 20,
   "metadata": {},
   "outputs": [
    {
     "name": "stdout",
     "output_type": "stream",
     "text": [
      "[1.088476   1.57226906 0.61247358]\n",
      "[1.088476   1.57226906 0.61247358]\n"
     ]
    }
   ],
   "source": [
    "#69\n",
    "\n",
    "a = np.random.rand(3, 4)\n",
    "b = np.random.rand(4 , 3)\n",
    "\n",
    "#soln1\n",
    "print(np.diag(np.dot(a, b)))\n",
    "\n",
    "#soln2\n",
    "prod = a * b.T\n",
    "print(np.sum(prod, axis=1))"
   ]
  },
  {
   "cell_type": "code",
   "execution_count": 23,
   "metadata": {},
   "outputs": [
    {
     "data": {
      "text/plain": [
       "array([1., 0., 0., 0., 2., 0., 0., 0., 3., 0., 0., 0., 4., 0., 0., 0., 5.])"
      ]
     },
     "execution_count": 23,
     "metadata": {},
     "output_type": "execute_result"
    }
   ],
   "source": [
    "#70\n",
    "inp = np.arange(5)+1\n",
    "z = np.zeros(5+4*3)\n",
    "z[::4] = inp\n",
    "z"
   ]
  },
  {
   "cell_type": "code",
   "execution_count": null,
   "metadata": {},
   "outputs": [],
   "source": []
  }
 ],
 "metadata": {
  "kernelspec": {
   "display_name": "base",
   "language": "python",
   "name": "python3"
  },
  "language_info": {
   "codemirror_mode": {
    "name": "ipython",
    "version": 3
   },
   "file_extension": ".py",
   "mimetype": "text/x-python",
   "name": "python",
   "nbconvert_exporter": "python",
   "pygments_lexer": "ipython3",
   "version": "3.9.12"
  },
  "orig_nbformat": 4
 },
 "nbformat": 4,
 "nbformat_minor": 2
}
