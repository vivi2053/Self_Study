{
 "cells": [
  {
   "cell_type": "code",
   "execution_count": 1,
   "metadata": {},
   "outputs": [],
   "source": [
    "#### 31. How to ignore all numpy warnings (not recommended)? (★☆☆)\n",
    "#### 32. Is the following expressions true? (★☆☆)\n",
    "#python\n",
    "#np.sqrt(-1) == np.emath.sqrt(-1)\n",
    "#### 33. How to get the dates of yesterday, today and tomorrow? (★☆☆)\n",
    "#### 34. How to get all the dates corresponding to the month of July 2016? (★★☆)\n",
    "#### 35. How to compute ((A+B)*(-A/2)) in place (without copy)? (★★☆)\n",
    "#### 36. Extract the integer part of a random array of positive numbers using 4 different methods (★★☆)\n",
    "#### 37. Create a 5x5 matrix with row values ranging from 0 to 4 (★★☆)\n",
    "#### 38. Consider a generator function that generates 10 integers and use it to build an array (★☆☆)\n",
    "#### 39. Create a vector of size 10 with values ranging from 0 to 1, both excluded (★★☆)\n",
    "#### 40. Create a random vector of size 10 and sort it (★★☆)"
   ]
  },
  {
   "cell_type": "code",
   "execution_count": 2,
   "metadata": {},
   "outputs": [],
   "source": [
    "import numpy as np"
   ]
  },
  {
   "cell_type": "code",
   "execution_count": 3,
   "metadata": {},
   "outputs": [],
   "source": [
    "#31\n",
    "defaults = np.seterr(all=\"warn\")\n",
    "_ = np.seterr(**defaults)"
   ]
  },
  {
   "cell_type": "code",
   "execution_count": 4,
   "metadata": {},
   "outputs": [
    {
     "name": "stdout",
     "output_type": "stream",
     "text": [
      "nan\n",
      "1j\n"
     ]
    },
    {
     "name": "stderr",
     "output_type": "stream",
     "text": [
      "/var/folders/zw/8cs3hp9s53q_p69tftz7xhwr0000gq/T/ipykernel_82445/3979951725.py:2: RuntimeWarning: invalid value encountered in sqrt\n",
      "  np.sqrt(-1) == np.emath.sqrt(-1)\n",
      "/var/folders/zw/8cs3hp9s53q_p69tftz7xhwr0000gq/T/ipykernel_82445/3979951725.py:3: RuntimeWarning: invalid value encountered in sqrt\n",
      "  print(np.sqrt(-1))\n"
     ]
    }
   ],
   "source": [
    "#32\n",
    "np.sqrt(-1) == np.emath.sqrt(-1)\n",
    "print(np.sqrt(-1))\n",
    "print(np.emath.sqrt(-1))"
   ]
  },
  {
   "cell_type": "code",
   "execution_count": 5,
   "metadata": {},
   "outputs": [
    {
     "name": "stdout",
     "output_type": "stream",
     "text": [
      "today 2023-04-09\n",
      "yesterday 2023-04-08\n",
      "tomorrow 2023-04-10\n"
     ]
    }
   ],
   "source": [
    "#33\n",
    "\n",
    "today_date = np.datetime64('today')\n",
    "yesterday_date = np.datetime64('today') - np.timedelta64(1, 'D')\n",
    "tomorrow_date = np.datetime64('today') + np.timedelta64(1, 'D')\n",
    "print(\"today\", today_date)\n",
    "print(\"yesterday\", yesterday_date)\n",
    "print(\"tomorrow\", tomorrow_date)"
   ]
  },
  {
   "cell_type": "code",
   "execution_count": 6,
   "metadata": {},
   "outputs": [
    {
     "data": {
      "text/plain": [
       "array(['2016-07-01', '2016-07-02', '2016-07-03', '2016-07-04',\n",
       "       '2016-07-05', '2016-07-06', '2016-07-07', '2016-07-08',\n",
       "       '2016-07-09', '2016-07-10', '2016-07-11', '2016-07-12',\n",
       "       '2016-07-13', '2016-07-14', '2016-07-15', '2016-07-16',\n",
       "       '2016-07-17', '2016-07-18', '2016-07-19', '2016-07-20',\n",
       "       '2016-07-21', '2016-07-22', '2016-07-23', '2016-07-24',\n",
       "       '2016-07-25', '2016-07-26', '2016-07-27', '2016-07-28',\n",
       "       '2016-07-29', '2016-07-30', '2016-07-31'], dtype='datetime64[D]')"
      ]
     },
     "execution_count": 6,
     "metadata": {},
     "output_type": "execute_result"
    }
   ],
   "source": [
    "#34\n",
    "jul_2016 = np.datetime64(\"2016-07-01\")\n",
    "aug_2016 = np.datetime64(\"2016-08-01\")\n",
    "\n",
    "np.arange(jul_2016, aug_2016, dtype='datetime64[D]')"
   ]
  },
  {
   "cell_type": "code",
   "execution_count": 7,
   "metadata": {},
   "outputs": [
    {
     "name": "stdout",
     "output_type": "stream",
     "text": [
      "[[ 2.34286356e+00  6.16180161e+00  3.94192295e+00 -3.95081368e+01\n",
      "  -2.61978552e+01]\n",
      " [-8.89046779e+00 -1.92956802e+01 -2.28789006e+01 -1.98615807e+01\n",
      "  -8.30580592e+01]\n",
      " [-1.83716168e+00  3.28597407e+00  6.61880602e+00 -1.35623550e+01\n",
      "  -9.31882427e+00]\n",
      " [-8.57309912e+01 -3.79187527e+01  1.73723613e-02  2.99162245e-02\n",
      "  -4.09270741e+01]]\n"
     ]
    }
   ],
   "source": [
    "#35\n",
    "a = np.random.uniform(-10, 10, (4, 5))\n",
    "b = np.random.uniform(-10, 10, (4, 5))\n",
    "np.add(a, b, out=b)\n",
    "np.negative(a, out=a)\n",
    "np.divide(a, 2, out=a)\n",
    "np.multiply(b, a, out=a)\n",
    "print(a)"
   ]
  },
  {
   "cell_type": "code",
   "execution_count": 9,
   "metadata": {},
   "outputs": [
    {
     "name": "stdout",
     "output_type": "stream",
     "text": [
      "[[ 9.4867757   8.65322559  3.73298737 -4.90449036 -5.96688594]\n",
      " [ 7.3441976  -3.21531525  5.12689568 -4.42088254 -0.62506358]]\n",
      "[[ 9.  8.  3. -4. -5.]\n",
      " [ 7. -3.  5. -4. -0.]]\n",
      "[[ 9  8  3 -4 -5]\n",
      " [ 7 -3  5 -4  0]]\n",
      "[[ 9.  8.  3. -4. -5.]\n",
      " [ 7. -3.  5. -4. -0.]]\n"
     ]
    }
   ],
   "source": [
    "#36\n",
    "\n",
    "z = np.random.uniform(-10, 10, (2, 5))\n",
    "print(z)\n",
    "\n",
    "#soln1\n",
    "print(np.where(z<0, np.ceil(z), np.floor(z)))\n",
    "\n",
    "#soln2\n",
    "print(z.astype(np.int64))\n",
    "\n",
    "#soln3\n",
    "print(np.trunc(z))\n",
    "\n",
    "#these solution only work with positive values\n",
    "#soln4\n",
    "# print(z - z%1)\n",
    "#soln5\n",
    "# print(z//1)\n",
    "#soln6\n",
    "# print(np.floor(z))"
   ]
  },
  {
   "cell_type": "code",
   "execution_count": 18,
   "metadata": {},
   "outputs": [
    {
     "name": "stdout",
     "output_type": "stream",
     "text": [
      "[[0 1 2 3 4]\n",
      " [0 1 2 3 4]\n",
      " [0 1 2 3 4]\n",
      " [0 1 2 3 4]\n",
      " [0 1 2 3 4]]\n",
      "[[0. 1. 2. 3. 4.]\n",
      " [0. 1. 2. 3. 4.]\n",
      " [0. 1. 2. 3. 4.]\n",
      " [0. 1. 2. 3. 4.]\n",
      " [0. 1. 2. 3. 4.]]\n"
     ]
    }
   ],
   "source": [
    "#37\n",
    "z = np.arange(5)\n",
    "z = np.expand_dims(z, 0)\n",
    "z = np.repeat(z, 5, axis=0)\n",
    "print(z)\n",
    "\n",
    "z_ = np.zeros((5, 5))\n",
    "z_ += np.arange(5)\n",
    "print(z_)\n"
   ]
  },
  {
   "cell_type": "code",
   "execution_count": 27,
   "metadata": {},
   "outputs": [
    {
     "name": "stderr",
     "output_type": "stream",
     "text": [
      "/var/folders/zw/8cs3hp9s53q_p69tftz7xhwr0000gq/T/ipykernel_82694/2110699626.py:8: DeprecationWarning: `np.int` is a deprecated alias for the builtin `int`. To silence this warning, use `int` by itself. Doing this will not modify any behavior and is safe. When replacing `np.int`, you may wish to use e.g. `np.int64` or `np.int32` to specify the precision. If you wish to review your current use, check the release note link for additional information.\n",
      "Deprecated in NumPy 1.20; for more details and guidance: https://numpy.org/devdocs/release/1.20.0-notes.html#deprecations\n",
      "  np.fromiter(int_generator(),  np.int)\n"
     ]
    },
    {
     "data": {
      "text/plain": [
       "array([ 1,  8,  0,  6,  2,  0, 10,  0,  0,  9])"
      ]
     },
     "execution_count": 27,
     "metadata": {},
     "output_type": "execute_result"
    }
   ],
   "source": [
    "#38\n",
    "import random\n",
    "\n",
    "def int_generator():\n",
    "    for _ in range(10):\n",
    "        yield random.randint(0, 10)\n",
    "\n",
    "np.fromiter(int_generator(),  np.int)"
   ]
  },
  {
   "cell_type": "code",
   "execution_count": 37,
   "metadata": {},
   "outputs": [
    {
     "data": {
      "text/plain": [
       "array([0.09090909, 0.18181818, 0.27272727, 0.36363636, 0.45454545,\n",
       "       0.54545455, 0.63636364, 0.72727273, 0.81818182, 0.90909091])"
      ]
     },
     "execution_count": 37,
     "metadata": {},
     "output_type": "execute_result"
    }
   ],
   "source": [
    "#39\n",
    "\n",
    "z = np.linspace(0, 1, 11, endpoint=False)[1:]\n",
    "z"
   ]
  },
  {
   "cell_type": "code",
   "execution_count": 49,
   "metadata": {},
   "outputs": [
    {
     "name": "stdout",
     "output_type": "stream",
     "text": [
      "[-9.39834917 -8.69589824 -4.10203398 -3.73172475 -2.34369772 -1.59599183\n",
      "  3.49390508  6.55636314  8.01540656  9.15983197]\n"
     ]
    }
   ],
   "source": [
    "#40\n",
    "\n",
    "z = np.random.uniform(-10, 10, 10)\n",
    "\n",
    "#soln1\n",
    "# z = np.sort(z)\n",
    "# print(z)\n",
    "\n",
    "#soln2\n",
    "z.sort()\n",
    "print(z)\n",
    "\n",
    "#soln3 returns list\n",
    "# z = sorted(z)\n",
    "# print(type(z), z)"
   ]
  }
 ],
 "metadata": {
  "kernelspec": {
   "display_name": "Python 3",
   "language": "python",
   "name": "python3"
  },
  "language_info": {
   "codemirror_mode": {
    "name": "ipython",
    "version": 3
   },
   "file_extension": ".py",
   "mimetype": "text/x-python",
   "name": "python",
   "nbconvert_exporter": "python",
   "pygments_lexer": "ipython3",
   "version": "3.9.12"
  },
  "orig_nbformat": 4,
  "vscode": {
   "interpreter": {
    "hash": "397704579725e15f5c7cb49fe5f0341eb7531c82d19f2c29d197e8b64ab5776b"
   }
  }
 },
 "nbformat": 4,
 "nbformat_minor": 2
}
