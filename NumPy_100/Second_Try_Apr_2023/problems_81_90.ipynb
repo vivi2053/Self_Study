{
 "cells": [
  {
   "cell_type": "code",
   "execution_count": 1,
   "metadata": {},
   "outputs": [],
   "source": [
    "#### 81. Consider an array Z = [1,2,3,4,5,6,7,8,9,10,11,12,13,14], how to generate an array R = [[1,2,3,4], [2,3,4,5], [3,4,5,6], ..., [11,12,13,14]]? (★★★)\n",
    "\n",
    "#### 82. Compute a matrix rank (★★★)\n",
    "\n",
    "#### 83. How to find the most frequent value in an array?\n",
    "\n",
    "#### 84. Extract all the contiguous 3x3 blocks from a random 10x10 matrix (★★★)\n",
    "\n",
    "#### 85. Create a 2D array subclass such that Z[i,j] == Z[j,i] (★★★)\n",
    "\n",
    "#### 86. Consider a set of p matrices with shape (n,n) and a set of p vectors with shape (n,1). How to compute the sum of of the p matrix products at once? (result has shape (n,1)) (★★★)\n",
    "\n",
    "#### 87. Consider a 16x16 array, how to get the block-sum (block size is 4x4)? (★★★)\n",
    "\n",
    "#### 88. How to implement the Game of Life using numpy arrays? (★★★)\n",
    "\n",
    "#### 89. How to get the n largest values of an array (★★★)\n",
    "\n",
    "#### 90. Given an arbitrary number of vectors, build the cartesian product (every combinations of every item) (★★★)"
   ]
  },
  {
   "cell_type": "code",
   "execution_count": 2,
   "metadata": {},
   "outputs": [],
   "source": [
    "import numpy as np\n",
    "np.set_printoptions(precision=4)"
   ]
  },
  {
   "cell_type": "code",
   "execution_count": 3,
   "metadata": {},
   "outputs": [
    {
     "name": "stdout",
     "output_type": "stream",
     "text": [
      "[[ 1  2  3  4]\n",
      " [ 2  3  4  5]\n",
      " [ 3  4  5  6]\n",
      " [ 4  5  6  7]\n",
      " [ 5  6  7  8]\n",
      " [ 6  7  8  9]\n",
      " [ 7  8  9 10]\n",
      " [ 8  9 10 11]\n",
      " [ 9 10 11 12]\n",
      " [10 11 12 13]\n",
      " [11 12 13 14]]\n"
     ]
    }
   ],
   "source": [
    "#81\n",
    "from numpy.lib.stride_tricks import sliding_window_view\n",
    "\n",
    "Z = [1,2,3,4,5,6,7,8,9,10,11,12,13,14]\n",
    "print(sliding_window_view(Z, 4))"
   ]
  },
  {
   "cell_type": "code",
   "execution_count": 16,
   "metadata": {},
   "outputs": [
    {
     "name": "stdout",
     "output_type": "stream",
     "text": [
      "6\n",
      "6\n"
     ]
    }
   ],
   "source": [
    "#82\n",
    "z = np.random.uniform(0, 10, (6, 15))\n",
    "\n",
    "#soln1\n",
    "print(np.linalg.matrix_rank(z))\n",
    "\n",
    "#soln2\n",
    "x, a, y = np.linalg.svd(z)\n",
    "print(np.sum(a > 1e-10))"
   ]
  },
  {
   "cell_type": "code",
   "execution_count": 22,
   "metadata": {},
   "outputs": [
    {
     "name": "stdout",
     "output_type": "stream",
     "text": [
      "[14  9  6  4  5  7 14  8  2  3]\n",
      "14\n",
      "14\n"
     ]
    }
   ],
   "source": [
    "#83\n",
    "\n",
    "z = np.random.randint(0, 20, 10)\n",
    "print(z)\n",
    "\n",
    "#soln1\n",
    "uniq_counts = np.unique(z, return_counts=True)\n",
    "uniq, counts = uniq_counts\n",
    "freq_idx = np.argmax(counts)\n",
    "print(uniq[freq_idx])\n",
    "\n",
    "#soln2\n",
    "bins = np.bincount(z)\n",
    "print(np.argmax(bins))"
   ]
  },
  {
   "cell_type": "code",
   "execution_count": 26,
   "metadata": {},
   "outputs": [],
   "source": [
    "#84\n",
    "\n",
    "from numpy.lib.stride_tricks import sliding_window_view\n",
    "\n",
    "z = np.random.rand(10, 10)\n",
    "win_shape = (3, 3)\n",
    "# print(z)\n",
    "new_view = sliding_window_view(z, win_shape)"
   ]
  },
  {
   "cell_type": "code",
   "execution_count": 43,
   "metadata": {},
   "outputs": [
    {
     "name": "stdout",
     "output_type": "stream",
     "text": [
      "[[ 3  7  7  5  4]\n",
      " [ 7  4  8 11  7]\n",
      " [ 7  8  6 42 12]\n",
      " [ 5 11 42  1 10]\n",
      " [ 4  7 12 10  1]]\n"
     ]
    }
   ],
   "source": [
    "#85\n",
    "\n",
    "class Symetric(np.ndarray):\n",
    "    def __setitem__(self, index, value):\n",
    "        i,j = index\n",
    "        super(Symetric, self).__setitem__((i,j), value)\n",
    "        super(Symetric, self).__setitem__((j,i), value)\n",
    "\n",
    "def symetric(Z):\n",
    "    return np.asarray(Z + Z.T - np.diag(Z.diagonal())).view(Symetric)\n",
    "\n",
    "S = symetric(np.random.randint(0,10,(5,5)))\n",
    "S[2,3] = 42\n",
    "print(S)\n"
   ]
  },
  {
   "cell_type": "code",
   "execution_count": 11,
   "metadata": {},
   "outputs": [
    {
     "name": "stdout",
     "output_type": "stream",
     "text": [
      "[[404]\n",
      " [516]\n",
      " [628]\n",
      " [740]]\n"
     ]
    }
   ],
   "source": [
    "#86\n",
    "\n",
    "a = np.arange(32).reshape(2, 4, 4)\n",
    "b = np.arange(8).reshape(2, 4, 1)\n",
    "# print(a)\n",
    "# print(b)\n",
    "# print(np.matmul(a, b))\n",
    "print(np.tensordot(a, b, axes=[[0, 2], [0, 1]]))"
   ]
  },
  {
   "cell_type": "code",
   "execution_count": 31,
   "metadata": {},
   "outputs": [
    {
     "name": "stdout",
     "output_type": "stream",
     "text": [
      "(13, 13, 4, 4)\n",
      "[[ 6.3855  8.067   9.2165  8.2069]\n",
      " [ 7.9368  7.7051  9.7577  8.3464]\n",
      " [10.4335  7.9619  8.6155  7.2826]\n",
      " [ 8.2315  6.6546  7.8759  6.852 ]]\n"
     ]
    }
   ],
   "source": [
    "#87\n",
    "from numpy.lib.stride_tricks import sliding_window_view\n",
    "z = np.random.rand(16, 16)\n",
    "win_shape = (4, 4)\n",
    "\n",
    "slides = sliding_window_view(z, win_shape)\n",
    "print(slides.shape)\n",
    "print(sliding_window_view(z, window_shape=win_shape)[::4, ::4].sum(axis=(-2, -1)))"
   ]
  },
  {
   "cell_type": "code",
   "execution_count": null,
   "metadata": {},
   "outputs": [],
   "source": [
    "#88\n",
    "\n"
   ]
  },
  {
   "cell_type": "code",
   "execution_count": 60,
   "metadata": {},
   "outputs": [
    {
     "name": "stdout",
     "output_type": "stream",
     "text": [
      "[99 98 97 96 95]\n",
      "[98 99 97 96 95]\n"
     ]
    }
   ],
   "source": [
    "#89\n",
    "\n",
    "z = np.arange(100)\n",
    "np.random.shuffle(z)\n",
    "k = 5\n",
    "\n",
    "#soln1\n",
    "top_k_indices = np.argsort(-z)[:k]\n",
    "# print(top_k_indices)\n",
    "print(z[top_k_indices][:k])\n",
    "\n",
    "#soln2\n",
    "print(z[np.argpartition(-z, k)[:k]])"
   ]
  },
  {
   "cell_type": "code",
   "execution_count": 63,
   "metadata": {},
   "outputs": [
    {
     "name": "stdout",
     "output_type": "stream",
     "text": [
      "[[1 4 6]\n",
      " [1 4 7]\n",
      " [1 5 6]\n",
      " [1 5 7]\n",
      " [2 4 6]\n",
      " [2 4 7]\n",
      " [2 5 6]\n",
      " [2 5 7]\n",
      " [3 4 6]\n",
      " [3 4 7]\n",
      " [3 5 6]\n",
      " [3 5 7]]\n"
     ]
    }
   ],
   "source": [
    "#90\n",
    "\n",
    "def cartesian(arrays):\n",
    "    arrays = [np.asarray(a) for a in arrays]\n",
    "    shape = (len(x) for x in arrays)\n",
    "\n",
    "    ix = np.indices(shape, dtype=int)\n",
    "    ix = ix.reshape(len(arrays), -1).T\n",
    "\n",
    "    for n, arr in enumerate(arrays):\n",
    "        ix[:, n] = arrays[n][ix[:, n]]\n",
    "\n",
    "    return ix\n",
    "\n",
    "print (cartesian(([1, 2, 3], [4, 5], [6, 7])))"
   ]
  },
  {
   "cell_type": "code",
   "execution_count": null,
   "metadata": {},
   "outputs": [],
   "source": []
  }
 ],
 "metadata": {
  "kernelspec": {
   "display_name": "base",
   "language": "python",
   "name": "python3"
  },
  "language_info": {
   "codemirror_mode": {
    "name": "ipython",
    "version": 3
   },
   "file_extension": ".py",
   "mimetype": "text/x-python",
   "name": "python",
   "nbconvert_exporter": "python",
   "pygments_lexer": "ipython3",
   "version": "3.9.12"
  },
  "orig_nbformat": 4
 },
 "nbformat": 4,
 "nbformat_minor": 2
}
