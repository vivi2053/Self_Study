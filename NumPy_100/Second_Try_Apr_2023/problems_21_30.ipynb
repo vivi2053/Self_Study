{
 "cells": [
  {
   "cell_type": "code",
   "execution_count": 3,
   "metadata": {},
   "outputs": [],
   "source": [
    "#### 21. Create a checkerboard 8x8 matrix using the tile function (★☆☆)\n",
    "#### 22. Normalize a 5x5 random matrix (★☆☆)\n",
    "#### 23. Create a custom dtype that describes a color as four unsigned bytes (RGBA) (★☆☆)\n",
    "#### 24. Multiply a 5x3 matrix by a 3x2 matrix (real matrix product) (★☆☆)\n",
    "#### 25. Given a 1D array, negate all elements which are between 3 and 8, in place. (★☆☆)\n",
    "#### 26. What is the output of the following script? (★☆☆)\n",
    "#### 27. Consider an integer vector Z, which of these expressions are legal? (★☆☆)\n",
    "#### 28. What are the result of the following expressions? (★☆☆)\n",
    "#### 29. How to round away from zero a float array ? (★☆☆)\n",
    "#### 30. How to find common values between two arrays? (★☆☆)"
   ]
  },
  {
   "cell_type": "code",
   "execution_count": 2,
   "metadata": {},
   "outputs": [],
   "source": [
    "import numpy as np"
   ]
  },
  {
   "cell_type": "code",
   "execution_count": 4,
   "metadata": {},
   "outputs": [
    {
     "name": "stdout",
     "output_type": "stream",
     "text": [
      "[[0. 1. 0. 1. 0. 1. 0. 1.]\n",
      " [1. 0. 1. 0. 1. 0. 1. 0.]\n",
      " [0. 1. 0. 1. 0. 1. 0. 1.]\n",
      " [1. 0. 1. 0. 1. 0. 1. 0.]\n",
      " [0. 1. 0. 1. 0. 1. 0. 1.]\n",
      " [1. 0. 1. 0. 1. 0. 1. 0.]\n",
      " [0. 1. 0. 1. 0. 1. 0. 1.]\n",
      " [1. 0. 1. 0. 1. 0. 1. 0.]]\n"
     ]
    }
   ],
   "source": [
    "#21\n",
    "z = np.tile([[0., 1],[1, 0]], (4, 4))\n",
    "print(z)"
   ]
  },
  {
   "cell_type": "code",
   "execution_count": 15,
   "metadata": {},
   "outputs": [
    {
     "name": "stdout",
     "output_type": "stream",
     "text": [
      "[[ 2.00958     0.60516363  0.87566481 -0.17296059 -0.56440045]\n",
      " [ 0.83554692 -2.15340781 -0.33198012 -0.40634634 -1.34665198]\n",
      " [-0.16025678  1.38975426  1.15033895  0.05223604 -2.23470009]\n",
      " [ 0.13832373  0.13120391  0.61200013 -0.76120122  0.66712233]\n",
      " [-0.77534843  1.04651117  0.12483068 -0.79242789  0.06140515]]\n"
     ]
    }
   ],
   "source": [
    "#22\n",
    "z = np.random.rand(5, 5)\n",
    "print((z - z.mean())/z.std())"
   ]
  },
  {
   "cell_type": "code",
   "execution_count": 16,
   "metadata": {},
   "outputs": [],
   "source": [
    "#23\n",
    "color_dt = np.dtype([(\"R\", np.uint8), (\"G\", np.uint8), (\"B\", np.uint8), (\"A\", np.float64)])"
   ]
  },
  {
   "cell_type": "code",
   "execution_count": 19,
   "metadata": {},
   "outputs": [
    {
     "name": "stdout",
     "output_type": "stream",
     "text": [
      "[[0.42452813 0.30776195]\n",
      " [0.32884905 0.30991472]\n",
      " [0.81767762 0.68310784]\n",
      " [1.23542445 1.4049188 ]\n",
      " [1.17760027 1.71631248]]\n",
      "[[0.42452813 0.30776195]\n",
      " [0.32884905 0.30991472]\n",
      " [0.81767762 0.68310784]\n",
      " [1.23542445 1.4049188 ]\n",
      " [1.17760027 1.71631248]]\n"
     ]
    }
   ],
   "source": [
    "#24\n",
    "\n",
    "a = np.random.rand(5, 3)\n",
    "b = np.random.rand(3, 2)\n",
    "\n",
    "#soln1\n",
    "print(np.matmul(a, b))\n",
    "\n",
    "#soln2\n",
    "print(np.dot(a, b))"
   ]
  },
  {
   "cell_type": "code",
   "execution_count": 20,
   "metadata": {},
   "outputs": [
    {
     "name": "stdout",
     "output_type": "stream",
     "text": [
      "[1 1 3 5 9 6 4 5 8 7]\n",
      "[ 1  1  3 -5  9 -6 -4 -5  8 -7]\n"
     ]
    }
   ],
   "source": [
    "#25\n",
    "\n",
    "z = np.random.randint(1, 10, (10))\n",
    "print(z)\n",
    "z[(z>3) & (z<8)] *= -1\n",
    "print(z)"
   ]
  },
  {
   "cell_type": "code",
   "execution_count": 1,
   "metadata": {},
   "outputs": [
    {
     "name": "stdout",
     "output_type": "stream",
     "text": [
      "10\n",
      "10\n"
     ]
    }
   ],
   "source": [
    "#26\n",
    "\n",
    "print(sum(range(5),-1))\n",
    "from numpy import *\n",
    "print(sum(range(5),-1))"
   ]
  },
  {
   "cell_type": "code",
   "execution_count": 5,
   "metadata": {},
   "outputs": [
    {
     "name": "stdout",
     "output_type": "stream",
     "text": [
      "[387420489     46656      3125         1         1      3125         4\n",
      " 387420489        27       256]\n",
      "[256  32  16   1   1  16   2 256   4   8]\n",
      "[  3  -8   7  -4   4   6 -10  -1   2   9]\n",
      "[False  True False  True False False  True  True False False]\n",
      "[ 0. +3.j -0. -8.j  0. +7.j -0. -4.j  0. +4.j  0. +6.j -0.-10.j -0. -1.j\n",
      "  0. +2.j  0. +9.j]\n",
      "[  3.  -8.   7.  -4.   4.   6. -10.  -1.   2.   9.]\n"
     ]
    }
   ],
   "source": [
    "#27\n",
    "Z = np.random.randint(0, 10, 10)\n",
    "print(Z**Z)\n",
    "print(2 << Z >> 2)\n",
    "Z = np.random.randint(-10, 10, 10)\n",
    "print(Z)\n",
    "print(Z <- Z)\n",
    "print(1j*Z)\n",
    "print(Z/1/1)\n",
    "# print(Z<Z>Z) # nor a valid expression"
   ]
  },
  {
   "cell_type": "code",
   "execution_count": 14,
   "metadata": {},
   "outputs": [
    {
     "name": "stdout",
     "output_type": "stream",
     "text": [
      "nan\n",
      "0\n",
      "[-9.223372e+18]\n",
      "[0.]\n"
     ]
    },
    {
     "name": "stderr",
     "output_type": "stream",
     "text": [
      "/var/folders/zw/8cs3hp9s53q_p69tftz7xhwr0000gq/T/ipykernel_80988/1652630034.py:3: RuntimeWarning: invalid value encountered in divide\n",
      "  print(np.array(0) / np.array(0)) #np.nan\n",
      "/var/folders/zw/8cs3hp9s53q_p69tftz7xhwr0000gq/T/ipykernel_80988/1652630034.py:4: RuntimeWarning: divide by zero encountered in floor_divide\n",
      "  print(np.array(0) // np.array(0)) #0\n"
     ]
    }
   ],
   "source": [
    "#28\n",
    "\n",
    "print(np.array(0) / np.array(0)) #np.nan\n",
    "print(np.array(0) // np.array(0)) #0\n",
    "print(np.array([np.nan]).astype(int).astype(float32))\n",
    "print(np.array([0]).astype(np.float32))\n"
   ]
  },
  {
   "cell_type": "code",
   "execution_count": 7,
   "metadata": {},
   "outputs": [
    {
     "name": "stdout",
     "output_type": "stream",
     "text": [
      "[[ 2.80481466 -4.7593439  -0.33355068  4.43148888  2.71097107]\n",
      " [ 9.73881533  1.9836489  -6.64114573  0.82891965  2.68739032]\n",
      " [ 8.03861847  2.86519744 -7.02529058 -3.85045347 -9.37344089]\n",
      " [-2.35436461  8.90858767 -3.1043947  -9.01091087  2.11128731]]\n",
      "[[  3.  -5.  -1.   5.   3.]\n",
      " [ 10.   2.  -7.   1.   3.]\n",
      " [  9.   3.  -8.  -4. -10.]\n",
      " [ -3.   9.  -4. -10.   3.]]\n",
      "[[  3.  -5.  -1.   5.   3.]\n",
      " [ 10.   2.  -7.   1.   3.]\n",
      " [  9.   3.  -8.  -4. -10.]\n",
      " [ -3.   9.  -4. -10.   3.]]\n"
     ]
    }
   ],
   "source": [
    "#29\n",
    "\n",
    "z = np.random.uniform(-10, 10, (4, 5))\n",
    "print(z)\n",
    "\n",
    "#soln1\n",
    "z1 = np.where(z<0, np.floor(z), np.ceil(z))\n",
    "print(z1)\n",
    "\n",
    "#soln2\n",
    "z2 = np.copysign(np.ceil(np.abs(z)), z)\n",
    "print(z2)"
   ]
  },
  {
   "cell_type": "code",
   "execution_count": 35,
   "metadata": {},
   "outputs": [
    {
     "name": "stdout",
     "output_type": "stream",
     "text": [
      "[ 7  5  9 10  4]\n",
      "[13  1 14  4 14]\n",
      "[4]\n"
     ]
    }
   ],
   "source": [
    "#30\n",
    "\n",
    "z = np.random.randint(0, 15, 5)\n",
    "z_ = np.random.randint(0, 15, 5)\n",
    "print(z)\n",
    "print(z_)\n",
    "print(np.intersect1d(z, z_))"
   ]
  },
  {
   "cell_type": "code",
   "execution_count": null,
   "metadata": {},
   "outputs": [],
   "source": []
  }
 ],
 "metadata": {
  "kernelspec": {
   "display_name": "base",
   "language": "python",
   "name": "python3"
  },
  "language_info": {
   "codemirror_mode": {
    "name": "ipython",
    "version": 3
   },
   "file_extension": ".py",
   "mimetype": "text/x-python",
   "name": "python",
   "nbconvert_exporter": "python",
   "pygments_lexer": "ipython3",
   "version": "3.9.12"
  },
  "orig_nbformat": 4
 },
 "nbformat": 4,
 "nbformat_minor": 2
}
