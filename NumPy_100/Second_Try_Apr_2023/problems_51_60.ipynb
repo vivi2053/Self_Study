{
 "cells": [
  {
   "cell_type": "code",
   "execution_count": 1,
   "metadata": {},
   "outputs": [],
   "source": [
    "#### 51. Create a structured array representing a position (x,y) and a color (r,g,b) (★★☆)\n",
    "#### 52. Consider a random vector with shape (100,2) representing coordinates, find point by point distances (★★☆)\n",
    "#### 53. How to convert a float (32 bits) array into an integer (32 bits) in place?\n",
    "#### 54. How to read the following file? (★★☆)\n",
    "#### 55. What is the equivalent of enumerate for numpy arrays? (★★☆)\n",
    "#### 56. Generate a generic 2D Gaussian-like array (★★☆)\n",
    "#### 57. How to randomly place p elements in a 2D array? (★★☆)\n",
    "#### 58. Subtract the mean of each row of a matrix (★★☆)\n",
    "#### 59. How to sort an array by the nth column? (★★☆)\n",
    "#### 60. How to tell if a given 2D array has null columns? (★★☆)"
   ]
  },
  {
   "cell_type": "code",
   "execution_count": 2,
   "metadata": {},
   "outputs": [],
   "source": [
    "import numpy as np"
   ]
  },
  {
   "cell_type": "code",
   "execution_count": 4,
   "metadata": {},
   "outputs": [],
   "source": [
    "#51\n",
    "pixel_dtype = np.dtype([\n",
    "                        ('position', \n",
    "                                        [('X', np.float32), \n",
    "                                        ('Y', np.float32)]\n",
    "                        ), \n",
    "                        ('color', \n",
    "                                        [('R', np.uint8),\n",
    "                                        ('G', np.uint8),\n",
    "                                        ('B', np.uint8)]\n",
    "                        )\n",
    "                    ])"
   ]
  },
  {
   "cell_type": "code",
   "execution_count": 19,
   "metadata": {},
   "outputs": [
    {
     "name": "stdout",
     "output_type": "stream",
     "text": [
      "[[0.         3.74058065]\n",
      " [3.74058065 0.        ]]\n",
      "\n",
      "[[0.         3.74058065]\n",
      " [3.74058065 0.        ]]\n"
     ]
    }
   ],
   "source": [
    "#52\n",
    "z = np.random.uniform(-10, 10, (2, 2))\n",
    "\n",
    "#soln1\n",
    "x, y = z[:, 0], z[:, 1]\n",
    "x_ = np.subtract.outer(x, x)**2\n",
    "y_ = np.subtract.outer(y, y)**2\n",
    "dist = np.sqrt(x_+y_)\n",
    "print(dist, end='\\n\\n')\n",
    "\n",
    "#soln2\n",
    "x, y = np.atleast_2d(z[:,0], z[:,1])\n",
    "dist = np.sqrt( (x-x.T)**2 + (y-y.T)**2)\n",
    "print(dist)"
   ]
  },
  {
   "cell_type": "code",
   "execution_count": 26,
   "metadata": {},
   "outputs": [
    {
     "name": "stdout",
     "output_type": "stream",
     "text": [
      "[-1058681368  1088780838  1088589638 -1062750558  1090638557  1068998498\n",
      " -1063767085 -1058294374  1076885211  1072951881]\n"
     ]
    }
   ],
   "source": [
    "#53\n",
    "\n",
    "z = np.random.uniform(-10, 10, 10).astype(np.float32)\n",
    "\n",
    "#soln1 actually converts float value to int\n",
    "# z[:] = z.astype(np.int32)\n",
    "\n",
    "#soln2 just reads the underlying data as int32\n",
    "z = z.view(np.int32)\n",
    "print(z)"
   ]
  },
  {
   "cell_type": "code",
   "execution_count": 32,
   "metadata": {},
   "outputs": [
    {
     "data": {
      "text/plain": [
       "array([[ 1.,  2.,  3.,  4.,  5.],\n",
       "       [ 6., nan, nan,  7.,  8.],\n",
       "       [nan, nan,  9., 10., 11.]])"
      ]
     },
     "execution_count": 32,
     "metadata": {},
     "output_type": "execute_result"
    }
   ],
   "source": [
    "#54\n",
    "\n",
    "# file_contents = \"1, 2, 3, 4, 5\\n6,  ,  , 7, 8\\n,  , 9,10,11\"\n",
    "z = np.genfromtxt(open(\"54.txt\"), delimiter=',', missing_values=np.nan)\n",
    "z"
   ]
  },
  {
   "cell_type": "code",
   "execution_count": 38,
   "metadata": {},
   "outputs": [
    {
     "name": "stdout",
     "output_type": "stream",
     "text": [
      "(0, 0) -9.019563713069637\n",
      "(0, 1) 3.43899617157871\n",
      "(0, 2) -9.793314254848331\n",
      "(1, 0) -8.109434107983976\n",
      "(1, 1) -5.485135197047932\n",
      "(1, 2) -7.60610126092891\n",
      "(0, 0)\n",
      "(0, 1)\n",
      "(1, 0)\n",
      "(1, 1)\n",
      "(2, 0)\n",
      "(2, 1)\n"
     ]
    }
   ],
   "source": [
    "#55\n",
    "z = np.random.uniform(-10, 10, (2, 3))\n",
    "for i, elem in np.ndenumerate(z):\n",
    "    print(i, elem)\n",
    "\n",
    "for i in np.ndindex(3, 2):\n",
    "    print(i)"
   ]
  },
  {
   "cell_type": "code",
   "execution_count": 14,
   "metadata": {},
   "outputs": [
    {
     "name": "stdout",
     "output_type": "stream",
     "text": [
      "[[-5.3871 -3.898  -2.9612 -2.4644 -1.7626]\n",
      " [-3.898  -2.4089 -1.4721 -0.9753 -0.2735]\n",
      " [-2.9612 -1.4721 -0.5353 -0.0385  0.6633]\n",
      " [-2.4644 -0.9753 -0.0385  0.4583  1.1601]\n",
      " [-1.7626 -0.2735  0.6633  1.1601  1.862 ]]\n",
      "[[0.3679 0.5353 0.6065 0.5353 0.3679]\n",
      " [0.5353 0.7788 0.8825 0.7788 0.5353]\n",
      " [0.6065 0.8825 1.     0.8825 0.6065]\n",
      " [0.5353 0.7788 0.8825 0.7788 0.5353]\n",
      " [0.3679 0.5353 0.6065 0.5353 0.3679]]\n"
     ]
    }
   ],
   "source": [
    "#56\n",
    "\n",
    "np.set_printoptions(precision=4)\n",
    "#soln1\n",
    "x = np.random.normal(0, 1, size=(5))\n",
    "x = np.sort(x)\n",
    "y = x\n",
    "x, y = np.meshgrid(x, y)\n",
    "g = x+y\n",
    "print(g)\n",
    "\n",
    "\n",
    "#soln2\n",
    "X, Y = np.meshgrid(np.linspace(-1,1,5), np.linspace(-1,1,5))\n",
    "D = np.sqrt(X*X+Y*Y)\n",
    "sigma, mu = 1.0, 0.0\n",
    "G = np.exp(-( (D-mu)**2 / ( 2.0 * sigma**2 ) ) )\n",
    "print(G)"
   ]
  },
  {
   "cell_type": "code",
   "execution_count": 81,
   "metadata": {},
   "outputs": [
    {
     "name": "stdout",
     "output_type": "stream",
     "text": [
      "[[ 0.7428  9.2175  1.5765  7.8799]\n",
      " [ 9.8349 10.      7.4093  8.654 ]\n",
      " [ 5.0644  3.7619  6.761  10.    ]]\n"
     ]
    }
   ],
   "source": [
    "#57\n",
    "import random\n",
    "p = 3\n",
    "z = np.random.uniform(0, 10, (3, 4))\n",
    "np.put(z, random.choices(range(100), k=p), 10, mode='clip')\n",
    "print(z)\n"
   ]
  },
  {
   "cell_type": "code",
   "execution_count": 92,
   "metadata": {},
   "outputs": [
    {
     "name": "stdout",
     "output_type": "stream",
     "text": [
      "[[8.5288 7.5117 8.193  3.779 ]\n",
      " [8.1965 1.9375 7.9449 2.4365]\n",
      " [3.8258 9.9173 7.2379 4.6145]]\n",
      "[[7.0031]\n",
      " [5.1288]\n",
      " [6.3989]]\n",
      "[[ 1.5257  0.5086  1.1899 -3.2241]\n",
      " [ 3.0677 -3.1913  2.8161 -2.6924]\n",
      " [-2.573   3.5184  0.839  -1.7844]]\n"
     ]
    }
   ],
   "source": [
    "#58\n",
    "\n",
    "z = np.random.uniform(0, 10, (3, 4))\n",
    "#soln1\n",
    "means = np.expand_dims(np.mean(z, axis=-1), axis=1)\n",
    "#soln2\n",
    "means = z.mean(axis=1, keepdims=True)\n",
    "\n",
    "print(z)\n",
    "print(means)\n",
    "print(np.subtract(z, means))\n"
   ]
  },
  {
   "cell_type": "code",
   "execution_count": 96,
   "metadata": {},
   "outputs": [
    {
     "name": "stdout",
     "output_type": "stream",
     "text": [
      "[[2.4566 3.73   4.4848 9.0064]\n",
      " [8.1633 9.3197 6.139  5.6764]\n",
      " [5.2034 9.7409 0.3082 1.6212]]\n"
     ]
    }
   ],
   "source": [
    "#59\n",
    "\n",
    "z = np.random.uniform(0, 10, (3, 4))\n",
    "print(z[z[:, 1].argsort()])"
   ]
  },
  {
   "cell_type": "code",
   "execution_count": 125,
   "metadata": {},
   "outputs": [
    {
     "name": "stdout",
     "output_type": "stream",
     "text": [
      "[[0 0 1 0]\n",
      " [1 1 1 0]\n",
      " [0 1 0 0]]\n"
     ]
    },
    {
     "data": {
      "text/plain": [
       "True"
      ]
     },
     "execution_count": 125,
     "metadata": {},
     "output_type": "execute_result"
    }
   ],
   "source": [
    "#60\n",
    "\n",
    "z = np.random.randint(0, 2, (3, 4))\n",
    "print(z)\n",
    "(~z.any(axis=0)).any()"
   ]
  },
  {
   "cell_type": "code",
   "execution_count": null,
   "metadata": {},
   "outputs": [],
   "source": []
  }
 ],
 "metadata": {
  "kernelspec": {
   "display_name": "base",
   "language": "python",
   "name": "python3"
  },
  "language_info": {
   "codemirror_mode": {
    "name": "ipython",
    "version": 3
   },
   "file_extension": ".py",
   "mimetype": "text/x-python",
   "name": "python",
   "nbconvert_exporter": "python",
   "pygments_lexer": "ipython3",
   "version": "3.9.12"
  },
  "orig_nbformat": 4
 },
 "nbformat": 4,
 "nbformat_minor": 2
}
