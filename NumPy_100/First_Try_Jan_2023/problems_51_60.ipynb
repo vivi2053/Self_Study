{
 "cells": [
  {
   "attachments": {},
   "cell_type": "markdown",
   "metadata": {},
   "source": [
    "#### 51. Create a structured array representing a position (x,y) and a color (r,g,b) (★★☆)\n",
    "#### 52. Consider a random vector with shape (100,2) representing coordinates, find point by point distances (★★☆)\n",
    "#### 53. How to convert a float (32 bits) array into an integer (32 bits) in place?\n",
    "#### 54. How to read the following file? (★★☆)\n",
    "```\n",
    "1, 2, 3, 4, 5\n",
    "6,  ,  , 7, 8\n",
    " ,  , 9,10,11\n",
    "```\n",
    "\n",
    "#### 55. What is the equivalent of enumerate for numpy arrays? (★★☆)\n",
    "\n",
    "#### 56. Generate a generic 2D Gaussian-like array (★★☆)\n",
    "\n",
    "#### 57. How to randomly place p elements in a 2D array? (★★☆)\n",
    "\n",
    "#### 58. Subtract the mean of each row of a matrix (★★☆)\n",
    "\n",
    "#### 59. How to sort an array by the nth column? (★★☆)\n",
    "\n",
    "#### 60. How to tell if a given 2D array has null columns? (★★☆)"
   ]
  },
  {
   "cell_type": "code",
   "execution_count": 29,
   "metadata": {},
   "outputs": [],
   "source": [
    "import numpy as np"
   ]
  },
  {
   "cell_type": "code",
   "execution_count": 5,
   "metadata": {},
   "outputs": [
    {
     "name": "stdout",
     "output_type": "stream",
     "text": [
      "[[(0, 0) (0, 0) (0, 0) (0, 0) (0, 0)]\n",
      " [(0, 0) (0, 0) (0, 0) (0, 0) (0, 0)]\n",
      " [(0, 0) (0, 0) (0, 0) (0, 0) (0, 0)]\n",
      " [(0, 0) (0, 0) (0, 0) (0, 0) (0, 0)]\n",
      " [(0, 0) (0, 0) (0, 0) (0, 0) (0, 0)]]\n"
     ]
    },
    {
     "data": {
      "text/plain": [
       "array([[((0, 0), (0, 0, 0)), ((0, 0), (0, 0, 0)), ((0, 0), (0, 0, 0))],\n",
       "       [((0, 0), (0, 0, 0)), ((0, 0), (0, 0, 0)), ((0, 0), (0, 0, 0))],\n",
       "       [((0, 0), (0, 0, 0)), ((0, 0), (0, 0, 0)), ((0, 0), (0, 0, 0))]],\n",
       "      dtype=[('position', [('x', '<i8'), ('y', '<i8')]), ('color', [('r', '<i8'), ('g', '<i8'), ('b', '<i8')])])"
      ]
     },
     "execution_count": 5,
     "metadata": {},
     "output_type": "execute_result"
    }
   ],
   "source": [
    "#51\n",
    "\n",
    "Z = np.zeros((5, 5), dtype=[('x', np.int64), ('y', np.int64)])\n",
    "print(Z)\n",
    "position = np.dtype([('x', np.int64), ('y', np.int64)])\n",
    "color = np.dtype([('r', np.int64), ('g', np.int64), ('b', np.int64)])\n",
    "Z1 = np.zeros((3, 3), dtype=[('position', position), ('color', color)])\n",
    "Z1"
   ]
  },
  {
   "cell_type": "code",
   "execution_count": 26,
   "metadata": {},
   "outputs": [
    {
     "name": "stdout",
     "output_type": "stream",
     "text": [
      "[[ 0.    3.75  1.06  2.87  8.07  4.71  5.94  6.88  8.84 10.99]\n",
      " [ 3.75  0.    3.9   3.23  4.87  2.74  3.72  3.14  6.47  7.3 ]\n",
      " [ 1.06  3.9   0.    2.07  8.55  4.19  5.37  7.    8.19 10.89]\n",
      " [ 2.87  3.23  2.07  0.    8.09  2.28  3.38  5.91  6.14  9.33]\n",
      " [ 8.07  4.87  8.55  8.09  0.    6.95  7.31  3.03  9.    5.92]\n",
      " [ 4.71  2.74  4.19  2.28  6.95  0.    1.24  4.25  4.17  7.14]\n",
      " [ 5.94  3.72  5.37  3.38  7.31  1.24  0.    4.37  2.93  6.46]\n",
      " [ 6.88  3.14  7.    5.91  3.03  4.25  4.37  0.    5.99  4.39]\n",
      " [ 8.84  6.47  8.19  6.14  9.    4.17  2.93  5.99  0.    5.9 ]\n",
      " [10.99  7.3  10.89  9.33  5.92  7.14  6.46  4.39  5.9   0.  ]]\n"
     ]
    }
   ],
   "source": [
    "#52\n",
    "with np.printoptions(precision=2):\n",
    "    Z = np.random.uniform(0, 10, (10, 2))\n",
    "    X, Y = np.atleast_2d(Z[:, 0], Z[:, 1])\n",
    "\n",
    "    D = np.sqrt((X-X.T)**2 + (Y-Y.T)**2)\n",
    "    print(D)"
   ]
  },
  {
   "cell_type": "code",
   "execution_count": 79,
   "metadata": {},
   "outputs": [
    {
     "name": "stdout",
     "output_type": "stream",
     "text": [
      "[76.22652  42.773296 68.49126  66.03875  14.367308 37.343964 73.59709\n",
      " 25.085056 64.39582  42.76346 ] float32\n",
      "[1117287418 1110120411 1116273542 1115952087 1097195646 1108697144\n",
      " 1116942774 1103670834 1115736745 1110117832] int32\n",
      "140470612657904\n",
      "140470612658768\n",
      "[1.06e-43 5.89e-44 9.53e-44 9.25e-44 1.96e-44 5.18e-44 1.02e-43 3.50e-44\n",
      " 8.97e-44 5.89e-44] float32\n",
      "[76 42 68 66 14 37 73 25 64 42] int32\n",
      "140470612657904\n",
      "140470612658768\n",
      "\n",
      "\n",
      "[44.763268  92.98875   20.246092  17.617697  12.04367   75.64875\n",
      "  4.2615685 71.67784   98.685936  74.89435  ]\n",
      "[44 92 20 17 12 75  4 71 98 74]\n"
     ]
    }
   ],
   "source": [
    "#53\n",
    "#https://stackoverflow.com/a/4396247/5989906\n",
    "\n",
    "Z = (np.random.rand(10)*100).astype(np.float32)\n",
    "Y = Z.view(np.int32)\n",
    "print(Z, Z.dtype)\n",
    "print(Y, Y.dtype)\n",
    "print(id(Z))\n",
    "print(id(Y))\n",
    "Y[:] = Z\n",
    "print(Z, Z.dtype)\n",
    "print(Y, Y.dtype)\n",
    "print(id(Z))\n",
    "print(id(Y))\n",
    "\n",
    "#simpler way\n",
    "print('\\n')\n",
    "Z = (np.random.rand(10)*100).astype(np.float32)\n",
    "print(Z)\n",
    "print(Z.astype(np.int32, copy=False))"
   ]
  },
  {
   "cell_type": "code",
   "execution_count": 91,
   "metadata": {},
   "outputs": [
    {
     "name": "stdout",
     "output_type": "stream",
     "text": [
      "[[ 1.  2.  3.  4.  5.]\n",
      " [ 6. nan nan  7.  8.]\n",
      " [nan nan  9. 10. 11.]]\n"
     ]
    }
   ],
   "source": [
    "#54\n",
    "from io import StringIO\n",
    "s = StringIO('''1, 2, 3, 4, 5\n",
    "                6,  ,  , 7, 8\n",
    "                 ,  , 9,10,11\n",
    "''')\n",
    "Z = np.genfromtxt(s, delimiter=',', dtype=np.float16)\n",
    "print(Z)\n",
    "\n",
    "# read from file\n",
    "# with open(\"input.txt\", \"r\") as infile:\n",
    "#     print(infile.read())"
   ]
  },
  {
   "cell_type": "code",
   "execution_count": 114,
   "metadata": {},
   "outputs": [
    {
     "name": "stdout",
     "output_type": "stream",
     "text": [
      "(0, 0, 0) 69.85589962095072 69.85589962095072\n",
      "(0, 0, 1) 56.24029821295126 56.24029821295126\n",
      "(0, 0, 2) 77.77552504152008 77.77552504152008\n",
      "(0, 1, 0) 4.303708665379835 4.303708665379835\n",
      "(0, 1, 1) 96.85095396466504 96.85095396466504\n",
      "(0, 1, 2) 75.17107807241034 75.17107807241034\n",
      "\n",
      "(0, 0, 0) 69.85589962095072\n",
      "(0, 0, 1) 56.24029821295126\n",
      "(0, 0, 2) 77.77552504152008\n",
      "(0, 1, 0) 4.303708665379835\n",
      "(0, 1, 1) 96.85095396466504\n",
      "(0, 1, 2) 75.17107807241034\n"
     ]
    }
   ],
   "source": [
    "#55\n",
    "\n",
    "Z = np.random.rand(1, 2, 3)*100\n",
    "Y = np.ndenumerate(Z)\n",
    "for idx, value in Y:\n",
    "    print(idx, value, Z[idx])\n",
    "print()\n",
    "X = np.ndindex(Z.shape)\n",
    "for idx in X:\n",
    "    print(idx, Z[idx])"
   ]
  },
  {
   "cell_type": "code",
   "execution_count": 138,
   "metadata": {},
   "outputs": [
    {
     "name": "stdout",
     "output_type": "stream",
     "text": [
      "[[1.         0.98019867 0.92311635 0.83527021 0.72614904]\n",
      " [0.98019867 0.96078944 0.90483742 0.81873075 0.71177032]\n",
      " [0.92311635 0.90483742 0.85214379 0.77105159 0.67032005]\n",
      " [0.83527021 0.81873075 0.77105159 0.69767633 0.60653066]\n",
      " [0.72614904 0.71177032 0.67032005 0.60653066 0.52729242]]\n"
     ]
    }
   ],
   "source": [
    "#56\n",
    "GD = np.random.normal(size=(2, 5))\n",
    "GD\n",
    "\n",
    "X, Y = np.meshgrid(np.linspace(0, 1, 5, endpoint=False), np.linspace(0, 1, 5, endpoint=False))\n",
    "D = np.sqrt(X*X+Y*Y)\n",
    "sigma, mu = 1.0, 0.0\n",
    "G = np.exp(-( (D-mu)**2 / ( 2.0 * sigma**2 ) ) )\n",
    "print(G)"
   ]
  },
  {
   "cell_type": "code",
   "execution_count": 151,
   "metadata": {},
   "outputs": [
    {
     "data": {
      "text/plain": [
       "array([[ 0.,  0.,  0.,  0.,  0.],\n",
       "       [ 0.,  0.,  0.,  0., 22.],\n",
       "       [16.,  0.,  0.,  0.,  0.],\n",
       "       [ 0.,  0.,  0.,  0.,  0.],\n",
       "       [ 0., 20.,  0.,  0.,  0.]])"
      ]
     },
     "execution_count": 151,
     "metadata": {},
     "output_type": "execute_result"
    }
   ],
   "source": [
    "#57\n",
    "m , n = 5, 5\n",
    "Z = np.zeros((m, n))\n",
    "np.put(Z, np.random.choice(range(m*n), 3, replace=False), np.random.choice(range(m*n), 3, replace=False))\n",
    "Z"
   ]
  },
  {
   "cell_type": "code",
   "execution_count": 168,
   "metadata": {},
   "outputs": [
    {
     "name": "stdout",
     "output_type": "stream",
     "text": [
      "[[0.70775376 0.40977007 0.73945243 0.65338459 0.42602411]\n",
      " [0.81299631 0.75502124 0.58931499 0.03297898 0.30736788]\n",
      " [0.02220381 0.89350398 0.17221759 0.52682242 0.22578446]\n",
      " [0.4450455  0.63309661 0.43588678 0.04790393 0.63703955]\n",
      " [0.03802966 0.08914473 0.59877583 0.13571801 0.68258014]]\n",
      "[[0.58727699]\n",
      " [0.49953588]\n",
      " [0.36810645]\n",
      " [0.43979447]\n",
      " [0.30884967]]\n",
      "[[ 0.12047677 -0.17750693  0.15217543  0.0661076  -0.16125288]\n",
      " [ 0.31346043  0.25548536  0.08977911 -0.4665569  -0.192168  ]\n",
      " [-0.34590264  0.52539752 -0.19588886  0.15871597 -0.14232199]\n",
      " [ 0.00525102  0.19330213 -0.0039077  -0.39189054  0.19724508]\n",
      " [-0.27082002 -0.21970494  0.28992616 -0.17313166  0.37373046]]\n"
     ]
    }
   ],
   "source": [
    "#58\n",
    "\n",
    "Z = np.random.random((5, 5))\n",
    "# M = np.mean(Z, axis=1, keepdims=True)\n",
    "# or\n",
    "M = np.mean(Z, axis=1).reshape(-1, 1)\n",
    "D = Z - M\n",
    "print(Z)\n",
    "print(M)\n",
    "print(D)"
   ]
  },
  {
   "cell_type": "code",
   "execution_count": 176,
   "metadata": {},
   "outputs": [
    {
     "name": "stdout",
     "output_type": "stream",
     "text": [
      "[[0.77365558 0.38104836 0.20464397 0.20098149 0.59788789]\n",
      " [0.51791459 0.02094874 0.96157599 0.66633075 0.816343  ]\n",
      " [0.56674237 0.16116713 0.5303284  0.99356149 0.50519323]\n",
      " [0.08405426 0.29252945 0.66353199 0.12896937 0.16748597]\n",
      " [0.79503811 0.23507729 0.3817072  0.97735518 0.00608495]]\n",
      "[1 2 4 3 0]\n"
     ]
    },
    {
     "data": {
      "text/plain": [
       "array([[0.51791459, 0.02094874, 0.96157599, 0.66633075, 0.816343  ],\n",
       "       [0.56674237, 0.16116713, 0.5303284 , 0.99356149, 0.50519323],\n",
       "       [0.79503811, 0.23507729, 0.3817072 , 0.97735518, 0.00608495],\n",
       "       [0.08405426, 0.29252945, 0.66353199, 0.12896937, 0.16748597],\n",
       "       [0.77365558, 0.38104836, 0.20464397, 0.20098149, 0.59788789]])"
      ]
     },
     "execution_count": 176,
     "metadata": {},
     "output_type": "execute_result"
    }
   ],
   "source": [
    "#59\n",
    "\n",
    "Z = np.random.random((5, 5))\n",
    "print(Z)\n",
    "print(Z[:,1].argsort())\n",
    "Z = Z[Z[:,1].argsort()]\n",
    "Z"
   ]
  },
  {
   "cell_type": "code",
   "execution_count": 181,
   "metadata": {},
   "outputs": [
    {
     "data": {
      "text/plain": [
       "array([ True, False, False, False, False])"
      ]
     },
     "execution_count": 181,
     "metadata": {},
     "output_type": "execute_result"
    }
   ],
   "source": [
    "#60\n",
    "\n",
    "Z = np.random.random((5, 5))\n",
    "Z[0, :] = np.nan\n",
    "np.isnan(Z).all(axis=1)"
   ]
  },
  {
   "cell_type": "code",
   "execution_count": null,
   "metadata": {},
   "outputs": [],
   "source": []
  }
 ],
 "metadata": {
  "kernelspec": {
   "display_name": "base",
   "language": "python",
   "name": "python3"
  },
  "language_info": {
   "codemirror_mode": {
    "name": "ipython",
    "version": 3
   },
   "file_extension": ".py",
   "mimetype": "text/x-python",
   "name": "python",
   "nbconvert_exporter": "python",
   "pygments_lexer": "ipython3",
   "version": "3.9.12"
  },
  "orig_nbformat": 4,
  "vscode": {
   "interpreter": {
    "hash": "fee5ff9f2ff06ea6a44b7839303a5892d23367d47301ba3acd9f75263fd911e1"
   }
  }
 },
 "nbformat": 4,
 "nbformat_minor": 2
}
