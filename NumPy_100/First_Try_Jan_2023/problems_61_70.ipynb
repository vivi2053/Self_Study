{
 "cells": [
  {
   "cell_type": "code",
   "execution_count": 2,
   "metadata": {},
   "outputs": [],
   "source": [
    "#### 61. Find the nearest value from a given value in an array (★★☆)\n",
    "\n",
    "#### 62. Considering two arrays with shape (1,3) and (3,1), how to compute their sum using an iterator? (★★☆)\n",
    "\n",
    "#### 63. Create an array class that has a name attribute (★★☆)\n",
    "\n",
    "#### 64. Consider a given vector, how to add 1 to each element indexed by a second vector (be careful with repeated indices)? (★★★)\n",
    "\n",
    "#### 65. How to accumulate elements of a vector (X) to an array (F) based on an index list (I)? (★★★)\n",
    "\n",
    "#### 66. Considering a (w,h,3) image of (dtype=ubyte), compute the number of unique colors (★★☆)\n",
    "\n",
    "#### 67. Considering a four dimensions array, how to get sum over the last two axis at once? (★★★)\n",
    "\n",
    "#### 68. Considering a one-dimensional vector D, how to compute means of subsets of D using a vector S of same size describing subset  indices? (★★★)\n",
    "\n",
    "#### 69. How to get the diagonal of a dot product? (★★★)\n",
    "\n",
    "#### 70. Consider the vector [1, 2, 3, 4, 5], how to build a new vector with 3 consecutive zeros interleaved between each value? (★★★)"
   ]
  },
  {
   "cell_type": "code",
   "execution_count": 3,
   "metadata": {},
   "outputs": [
    {
     "name": "stdout",
     "output_type": "stream",
     "text": [
      "[[41.12628257 83.61502223  8.25611172]\n",
      " [99.60430285 67.56159919 34.04246691]\n",
      " [ 5.23693759 63.72735316 12.36129578]\n",
      " [19.44393245 57.26820661 26.24489971]\n",
      " [76.37748701 87.11913813 56.47965692]]\n"
     ]
    },
    {
     "data": {
      "text/plain": [
       "41.126282568875496"
      ]
     },
     "execution_count": 3,
     "metadata": {},
     "output_type": "execute_result"
    }
   ],
   "source": [
    "#61\n",
    "\n",
    "import numpy as np\n",
    "\n",
    "val = 44.5\n",
    "Z = np.random.uniform(0, 100, (5, 3))\n",
    "print(Z)\n",
    "Z_ = np.abs(Z-val)\n",
    "idx = np.argmin(Z_)\n",
    "Z.flatten()[idx]"
   ]
  },
  {
   "cell_type": "code",
   "execution_count": 28,
   "metadata": {},
   "outputs": [
    {
     "name": "stdout",
     "output_type": "stream",
     "text": [
      "[[1.62124187 1.01478437 1.64790625 1.43733291]\n",
      " [1.39678171 0.79032422 1.42344609 1.21287276]\n",
      " [1.52560862 0.91915112 1.552273   1.34169967]]\n"
     ]
    }
   ],
   "source": [
    "#62\n",
    "\n",
    "A = np.random.random((1, 4))\n",
    "B = np.random.random((3, 1))\n",
    "\n",
    "it = np.nditer([A,B,None])\n",
    "for x,y,z in it: \n",
    "    z[...] = x + y\n",
    "\n",
    "print(it.operands[2])"
   ]
  },
  {
   "cell_type": "code",
   "execution_count": 92,
   "metadata": {},
   "outputs": [
    {
     "name": "stdout",
     "output_type": "stream",
     "text": [
      "array finalize is called\n",
      "varray [[0.7092818  0.77295976]\n",
      " [0.24077747 0.17226737]]\n",
      "array finalize is called\n",
      "default_name\n"
     ]
    }
   ],
   "source": [
    "#63\n",
    "\n",
    "class NamedArray(np.ndarray):\n",
    "\n",
    "    def __new__(cls, name, *args):\n",
    "        arr_obj = np.ndarray.__new__(cls, *args)\n",
    "        arr_obj.name = name\n",
    "        return arr_obj\n",
    "    \n",
    "    def __array_finalize__(self, obj):\n",
    "        print('array finalize is called')\n",
    "        if obj is None: return\n",
    "        self.name = getattr(obj, 'name', \"default_name\")\n",
    "\n",
    "\n",
    "named_arr = NamedArray(\"varray\", (2, 2))\n",
    "print(named_arr.name, named_arr)\n",
    "\n",
    "example_array = np.zeros((3, 2)).view(NamedArray)\n",
    "print(example_array.name)"
   ]
  },
  {
   "cell_type": "code",
   "execution_count": 112,
   "metadata": {},
   "outputs": [
    {
     "name": "stdout",
     "output_type": "stream",
     "text": [
      "[17 44 41 15  1 28 40 10 41 14]\n",
      "[17 49 42 17  2 30 42 12 44 16]\n",
      "[17 54 43 19  3 32 44 14 47 18]\n"
     ]
    }
   ],
   "source": [
    "#64\n",
    "I = np.random.randint(1, 10, 20)\n",
    "Z = np.random.randint(1, 50, 10)\n",
    "print(Z)\n",
    "Z += np.bincount(I, minlength=len(Z))\n",
    "print(Z)\n",
    "\n",
    "\n",
    "#another solution\n",
    "np.add.at(Z, I, 1)\n",
    "print(Z)"
   ]
  },
  {
   "cell_type": "code",
   "execution_count": 119,
   "metadata": {},
   "outputs": [
    {
     "name": "stdout",
     "output_type": "stream",
     "text": [
      "[1, 2, 3, 4, 5, 6]\n",
      "[1, 3, 9, 3, 4, 1]\n"
     ]
    },
    {
     "data": {
      "text/plain": [
       "array([0., 7., 0., 6., 5., 0., 0., 0., 0., 3.])"
      ]
     },
     "execution_count": 119,
     "metadata": {},
     "output_type": "execute_result"
    }
   ],
   "source": [
    "#65\n",
    "X = [1,2,3,4,5,6]\n",
    "I = [1,3,9,3,4,1]\n",
    "print(X)\n",
    "print(I)\n",
    "# X[I]\n",
    "F = np.bincount(I,X)\n",
    "F"
   ]
  },
  {
   "cell_type": "code",
   "execution_count": 130,
   "metadata": {},
   "outputs": [
    {
     "data": {
      "text/plain": [
       "(9598, 3)"
      ]
     },
     "execution_count": 130,
     "metadata": {},
     "output_type": "execute_result"
    }
   ],
   "source": [
    "#66\n",
    "w, h = 120, 80\n",
    "image_arr = np.random.randint(0, 255, (w, h, 3))\n",
    "uniq_colors = np.unique(image_arr.reshape(-1, 3), axis=0)\n",
    "uniq_colors.shape"
   ]
  },
  {
   "cell_type": "code",
   "execution_count": 14,
   "metadata": {},
   "outputs": [
    {
     "name": "stdout",
     "output_type": "stream",
     "text": [
      "[27181 27088 27745 27643 27808]\n",
      "[27181 27088 27745 27643 27808]\n"
     ]
    }
   ],
   "source": [
    "#67\n",
    "A = np.random.randint(0, 10, (3, 24, 24, 255)).astype(np.uint8)\n",
    "#both ways are fine\n",
    "A1 = np.sum(A, axis=(-1, -2))\n",
    "A2 = np.sum(A, axis=(-2, -1))\n",
    "print(A1[2, :5])\n",
    "print(A2[2, :5])"
   ]
  },
  {
   "cell_type": "code",
   "execution_count": 21,
   "metadata": {},
   "outputs": [
    {
     "name": "stdout",
     "output_type": "stream",
     "text": [
      "[40.06655951 49.9745553  38.16056542 46.49352204 29.77626875 47.55039022\n",
      " 46.90995979 59.21371492 63.30200064 40.20505402]\n"
     ]
    }
   ],
   "source": [
    "#68\n",
    "D = np.random.uniform(0, 100, (100))\n",
    "S = np.random.randint(0, 10, size=(100))\n",
    "S_sum = np.bincount(S)\n",
    "D_sum = np.bincount(S, weights=D)\n",
    "print(D_sum/S_sum)"
   ]
  },
  {
   "cell_type": "code",
   "execution_count": 31,
   "metadata": {},
   "outputs": [
    {
     "name": "stdout",
     "output_type": "stream",
     "text": [
      "[ 6 18  4 17]\n",
      "[ 6 16  8 11]\n"
     ]
    }
   ],
   "source": [
    "#69\n",
    "\n",
    "A = np.random.randint(0, 5, (4, 4))\n",
    "B = np.random.randint(0, 5, (4, 4))\n",
    "\n",
    "#soln1\n",
    "print(np.diag(np.dot(A, B)))\n",
    "\n",
    "#soln\n",
    "print(np.sum(A*B, axis=1))"
   ]
  },
  {
   "cell_type": "code",
   "execution_count": 36,
   "metadata": {},
   "outputs": [
    {
     "name": "stdout",
     "output_type": "stream",
     "text": [
      "[1. 0. 0. 0. 2. 0. 0. 0. 3. 0. 0. 0. 4. 0. 0. 0. 5.]\n"
     ]
    }
   ],
   "source": [
    "#70\n",
    "\n",
    "A = np.arange(1, 6)\n",
    "n = 3\n",
    "B = np.zeros(A.size + (A.size-1) *n)\n",
    "B[::n+1] = A\n",
    "print(B)"
   ]
  },
  {
   "cell_type": "code",
   "execution_count": null,
   "metadata": {},
   "outputs": [],
   "source": []
  }
 ],
 "metadata": {
  "kernelspec": {
   "display_name": "base",
   "language": "python",
   "name": "python3"
  },
  "language_info": {
   "codemirror_mode": {
    "name": "ipython",
    "version": 3
   },
   "file_extension": ".py",
   "mimetype": "text/x-python",
   "name": "python",
   "nbconvert_exporter": "python",
   "pygments_lexer": "ipython3",
   "version": "3.9.12"
  },
  "orig_nbformat": 4,
  "vscode": {
   "interpreter": {
    "hash": "fee5ff9f2ff06ea6a44b7839303a5892d23367d47301ba3acd9f75263fd911e1"
   }
  }
 },
 "nbformat": 4,
 "nbformat_minor": 2
}
