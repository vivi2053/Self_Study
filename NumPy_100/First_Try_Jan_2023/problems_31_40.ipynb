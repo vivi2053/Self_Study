{
 "cells": [
  {
   "attachments": {},
   "cell_type": "markdown",
   "metadata": {},
   "source": [
    "#### 31. How to ignore all numpy warnings (not recommended)? (★☆☆)\n",
    "#### 32. Is the following expressions true? (★☆☆)\n",
    "```python\n",
    "np.sqrt(-1) == np.emath.sqrt(-1)\n",
    "```\n",
    "#### 33. How to get the dates of yesterday, today and tomorrow? (★☆☆)\n",
    "#### 34. How to get all the dates corresponding to the month of July 2016? (★★☆)\n",
    "#### 35. How to compute ((A+B)*(-A/2)) in place (without copy)? (★★☆)\n",
    "#### 36. Extract the integer part of a random array of positive numbers using 4 different methods (★★☆)\n",
    "#### 37. Create a 5x5 matrix with row values ranging from 0 to 4 (★★☆)\n",
    "#### 38. Consider a generator function that generates 10 integers and use it to build an array (★☆☆)\n",
    "#### 39. Create a vector of size 10 with values ranging from 0 to 1, both excluded (★★☆)\n",
    "#### 40. Create a random vector of size 10 and sort it (★★☆)"
   ]
  },
  {
   "cell_type": "code",
   "execution_count": 1,
   "metadata": {},
   "outputs": [],
   "source": [
    "import numpy as np"
   ]
  },
  {
   "cell_type": "code",
   "execution_count": 4,
   "metadata": {},
   "outputs": [
    {
     "name": "stderr",
     "output_type": "stream",
     "text": [
      "/var/folders/zw/8cs3hp9s53q_p69tftz7xhwr0000gq/T/ipykernel_7248/116594305.py:3: RuntimeWarning: divide by zero encountered in divide\n",
      "  Z = np.ones(1)/0\n"
     ]
    }
   ],
   "source": [
    "#31\n",
    "np.seterr(all='warn')\n",
    "Z = np.ones(1)/0"
   ]
  },
  {
   "cell_type": "code",
   "execution_count": 19,
   "metadata": {},
   "outputs": [
    {
     "data": {
      "text/plain": [
       "False"
      ]
     },
     "execution_count": 19,
     "metadata": {},
     "output_type": "execute_result"
    }
   ],
   "source": [
    "#32\n",
    "np.sqrt(-1) == np.emath.sqrt(-1)"
   ]
  },
  {
   "cell_type": "code",
   "execution_count": 11,
   "metadata": {},
   "outputs": [
    {
     "name": "stdout",
     "output_type": "stream",
     "text": [
      "2022-12-26\n",
      "2022-12-27\n",
      "2022-12-28\n"
     ]
    }
   ],
   "source": [
    "#33\n",
    "print(np.datetime64('today') - np.timedelta64(1, 'D'))\n",
    "print(np.datetime64('today'))\n",
    "print(np.datetime64('today') + np.timedelta64(1, 'D'))\n"
   ]
  },
  {
   "cell_type": "code",
   "execution_count": 16,
   "metadata": {},
   "outputs": [
    {
     "data": {
      "text/plain": [
       "array(['2016-06-01', '2016-06-02', '2016-06-03', '2016-06-04',\n",
       "       '2016-06-05', '2016-06-06', '2016-06-07', '2016-06-08',\n",
       "       '2016-06-09', '2016-06-10', '2016-06-11', '2016-06-12',\n",
       "       '2016-06-13', '2016-06-14', '2016-06-15', '2016-06-16',\n",
       "       '2016-06-17', '2016-06-18', '2016-06-19', '2016-06-20',\n",
       "       '2016-06-21', '2016-06-22', '2016-06-23', '2016-06-24',\n",
       "       '2016-06-25', '2016-06-26', '2016-06-27', '2016-06-28',\n",
       "       '2016-06-29', '2016-06-30'], dtype='datetime64[D]')"
      ]
     },
     "execution_count": 16,
     "metadata": {},
     "output_type": "execute_result"
    }
   ],
   "source": [
    "#34\n",
    "np.arange('2016-06', '2016-07', dtype='datetime64[D]')"
   ]
  },
  {
   "cell_type": "code",
   "execution_count": 20,
   "metadata": {},
   "outputs": [
    {
     "data": {
      "text/plain": [
       "array([[-0.82002956, -0.2886995 , -0.04867885, -0.66747504],\n",
       "       [-0.41732551, -0.00825149, -0.30425351, -0.06261942],\n",
       "       [-0.30919088, -0.11391003, -0.01691676, -0.72903375],\n",
       "       [-0.02315537, -0.02373846, -0.21642549, -0.01091247]])"
      ]
     },
     "execution_count": 20,
     "metadata": {},
     "output_type": "execute_result"
    }
   ],
   "source": [
    "#35\n",
    "#((A+B)(-A/2)) in place\n",
    "A = np.random.random((4, 4))\n",
    "B = np.random.random((4, 4))\n",
    "np.add(A, B, out=B)\n",
    "np.divide(A, 2, out=A)\n",
    "np.negative(A, out=A)\n",
    "np.multiply(A, B, out=B)"
   ]
  },
  {
   "cell_type": "code",
   "execution_count": 29,
   "metadata": {},
   "outputs": [
    {
     "name": "stdout",
     "output_type": "stream",
     "text": [
      "[2.39454315 5.43923747 2.9152241  5.71864455 7.73324681 4.94680381\n",
      " 2.98208012 0.46296886 7.17794264 9.96545106]\n",
      "[2. 5. 2. 5. 7. 4. 2. 0. 7. 9.]\n",
      "[2. 5. 2. 5. 7. 4. 2. 0. 7. 9.]\n",
      "[2. 5. 2. 5. 7. 4. 2. 0. 7. 9.]\n",
      "[2 5 2 5 7 4 2 0 7 9]\n"
     ]
    }
   ],
   "source": [
    "#36\n",
    "A=np.random.uniform(0, 10, 10)\n",
    "print(A)\n",
    "print(A-A%1)\n",
    "print(A//1)\n",
    "print(np.floor(A))\n",
    "print(A.astype(int))"
   ]
  },
  {
   "cell_type": "code",
   "execution_count": 48,
   "metadata": {},
   "outputs": [
    {
     "name": "stdout",
     "output_type": "stream",
     "text": [
      "[[0. 1. 2. 3. 4.]\n",
      " [0. 1. 2. 3. 4.]\n",
      " [0. 1. 2. 3. 4.]\n",
      " [0. 1. 2. 3. 4.]\n",
      " [0. 1. 2. 3. 4.]]\n",
      "[[0. 1. 2. 3. 4.]\n",
      " [0. 1. 2. 3. 4.]\n",
      " [0. 1. 2. 3. 4.]\n",
      " [0. 1. 2. 3. 4.]\n",
      " [0. 1. 2. 3. 4.]]\n"
     ]
    }
   ],
   "source": [
    "#37\n",
    "#with broadcasting 1d array to 2d array\n",
    "A = np.zeros((5, 5))\n",
    "A += np.arange(0, 5)\n",
    "print(A)\n",
    "\n",
    "#using np.tile\n",
    "B = np.tile(np.arange(0, 5, dtype=np.float32), (5, 1))\n",
    "print(B)"
   ]
  },
  {
   "cell_type": "code",
   "execution_count": 50,
   "metadata": {},
   "outputs": [
    {
     "data": {
      "text/plain": [
       "array([81., 94., 65., 69.,  5., 12., 88., 77., 39., 67.], dtype=float32)"
      ]
     },
     "execution_count": 50,
     "metadata": {},
     "output_type": "execute_result"
    }
   ],
   "source": [
    "#38\n",
    "# using np.fromiter()\n",
    "def integer_generator():\n",
    "    import random\n",
    "    for i in range(10):\n",
    "        yield random.randint(0, 100)\n",
    "\n",
    "np.fromiter(integer_generator(), dtype=np.float32)"
   ]
  },
  {
   "cell_type": "code",
   "execution_count": 53,
   "metadata": {},
   "outputs": [
    {
     "data": {
      "text/plain": [
       "array([0.09090909, 0.18181818, 0.27272727, 0.36363636, 0.45454545,\n",
       "       0.54545455, 0.63636364, 0.72727273, 0.81818182, 0.90909091])"
      ]
     },
     "execution_count": 53,
     "metadata": {},
     "output_type": "execute_result"
    }
   ],
   "source": [
    "#39\n",
    "A = np.linspace(0, 1, 11, endpoint=False)[1:]\n",
    "A"
   ]
  },
  {
   "cell_type": "code",
   "execution_count": 56,
   "metadata": {},
   "outputs": [
    {
     "data": {
      "text/plain": [
       "array([0.04083589, 0.23566137, 0.23584033, 0.37298286, 0.53548661,\n",
       "       0.62977296, 0.7223107 , 0.81933858, 0.82873003, 0.94236404])"
      ]
     },
     "execution_count": 56,
     "metadata": {},
     "output_type": "execute_result"
    }
   ],
   "source": [
    "#40\n",
    "#using np.sort\n",
    "A = np.sort(np.random.random(10))\n",
    "A"
   ]
  },
  {
   "cell_type": "code",
   "execution_count": null,
   "metadata": {},
   "outputs": [],
   "source": []
  }
 ],
 "metadata": {
  "kernelspec": {
   "display_name": "base",
   "language": "python",
   "name": "python3"
  },
  "language_info": {
   "codemirror_mode": {
    "name": "ipython",
    "version": 3
   },
   "file_extension": ".py",
   "mimetype": "text/x-python",
   "name": "python",
   "nbconvert_exporter": "python",
   "pygments_lexer": "ipython3",
   "version": "3.9.12"
  },
  "orig_nbformat": 4,
  "vscode": {
   "interpreter": {
    "hash": "fee5ff9f2ff06ea6a44b7839303a5892d23367d47301ba3acd9f75263fd911e1"
   }
  }
 },
 "nbformat": 4,
 "nbformat_minor": 2
}
