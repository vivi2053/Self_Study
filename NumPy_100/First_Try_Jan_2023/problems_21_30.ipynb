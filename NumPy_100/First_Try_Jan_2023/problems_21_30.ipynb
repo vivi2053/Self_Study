{
 "cells": [
  {
   "attachments": {},
   "cell_type": "markdown",
   "metadata": {},
   "source": [
    "#### 21. Create a checkerboard 8x8 matrix using the tile function (★☆☆)\n",
    "#### 22. Normalize a 5x5 random matrix (★☆☆)\n",
    "#### 23. Create a custom dtype that describes a color as four unsigned bytes (RGBA) (★☆☆)\n",
    "#### 24. Multiply a 5x3 matrix by a 3x2 matrix (real matrix product) (★☆☆)\n",
    "#### 25. Given a 1D array, negate all elements which are between 3 and 8, in place. (★☆☆)\n",
    "#### 26. What is the output of the following script? (★☆☆)\n",
    "```python\n",
    "# Author: Jake VanderPlas\n",
    "\n",
    "print(sum(range(5),-1))\n",
    "from numpy import *\n",
    "print(sum(range(5),-1))\n",
    "```\n",
    "#### 27. Consider an integer vector Z, which of these expressions are legal? (★☆☆)\n",
    "```python\n",
    "Z**Z\n",
    "2 << Z >> 2\n",
    "Z <- Z\n",
    "1j*Z\n",
    "Z/1/1\n",
    "Z<Z>Z\n",
    "```\n",
    "#### 28. What are the result of the following expressions? (★☆☆)\n",
    "```python\n",
    "np.array(0) / np.array(0)\n",
    "np.array(0) // np.array(0)\n",
    "np.array([np.nan]).astype(int).astype(float)\n",
    "```\n",
    "#### 29. How to round away from zero a float array ? (★☆☆)\n",
    "#### 30. How to find common values between two arrays? (★☆☆)"
   ]
  },
  {
   "cell_type": "code",
   "execution_count": 1,
   "metadata": {},
   "outputs": [],
   "source": [
    "import numpy as np\n",
    "import numpy.random as randnp"
   ]
  },
  {
   "cell_type": "code",
   "execution_count": 7,
   "metadata": {},
   "outputs": [
    {
     "data": {
      "text/plain": [
       "array([[0, 1, 0, 1, 0, 1, 0, 1],\n",
       "       [1, 0, 1, 0, 1, 0, 1, 0],\n",
       "       [0, 1, 0, 1, 0, 1, 0, 1],\n",
       "       [1, 0, 1, 0, 1, 0, 1, 0],\n",
       "       [0, 1, 0, 1, 0, 1, 0, 1],\n",
       "       [1, 0, 1, 0, 1, 0, 1, 0],\n",
       "       [0, 1, 0, 1, 0, 1, 0, 1],\n",
       "       [1, 0, 1, 0, 1, 0, 1, 0]])"
      ]
     },
     "execution_count": 7,
     "metadata": {},
     "output_type": "execute_result"
    }
   ],
   "source": [
    "#21\n",
    "example_array = np.array([[0, 1], [1, 0]])\n",
    "np.tile(example_array, (4, 4))"
   ]
  },
  {
   "cell_type": "code",
   "execution_count": 11,
   "metadata": {},
   "outputs": [
    {
     "data": {
      "text/plain": [
       "array([[-1.23414582,  1.36456939,  1.27958072,  1.30996725, -0.02524991],\n",
       "       [ 0.94878031,  0.07183409, -1.08172699, -1.36576827, -0.41224388],\n",
       "       [ 1.0893958 ,  1.19703098,  1.48496931, -1.58907395,  1.18071816],\n",
       "       [ 0.57531431, -1.01650395, -0.43838038,  0.19171253,  0.14546473],\n",
       "       [-0.91014345, -1.25361872, -0.26940821, -0.09876434, -1.14430972]])"
      ]
     },
     "execution_count": 11,
     "metadata": {},
     "output_type": "execute_result"
    }
   ],
   "source": [
    "#22\n",
    "def normalize(in_array):\n",
    "    mu = np.mean(in_array, keepdims=True)\n",
    "    sigma = np.std(in_array, keepdims=True)\n",
    "    Z = (in_array - mu)/sigma\n",
    "    return Z\n",
    "\n",
    "input_array = np.random.random((5, 5))\n",
    "normalize(input_array)"
   ]
  },
  {
   "cell_type": "code",
   "execution_count": 13,
   "metadata": {},
   "outputs": [],
   "source": [
    "#23\n",
    "color_type = np.dtype([(\"r\", np.ubyte), (\"g\", np.ubyte), (\"b\", np.ubyte), (\"a\", np.ubyte)])"
   ]
  },
  {
   "cell_type": "code",
   "execution_count": 15,
   "metadata": {},
   "outputs": [
    {
     "data": {
      "text/plain": [
       "array([[3., 3.],\n",
       "       [3., 3.],\n",
       "       [3., 3.],\n",
       "       [3., 3.],\n",
       "       [3., 3.]])"
      ]
     },
     "execution_count": 15,
     "metadata": {},
     "output_type": "execute_result"
    }
   ],
   "source": [
    "#24\n",
    "a = np.ones((5, 3))\n",
    "b = np.ones((3, 2))\n",
    "np.matmul(a, b)"
   ]
  },
  {
   "cell_type": "code",
   "execution_count": 29,
   "metadata": {},
   "outputs": [
    {
     "name": "stdout",
     "output_type": "stream",
     "text": [
      "[11  4 -5 -5  4 -1 11 -3 13 11]\n",
      "[11 -4 -5 -5 -4 -1 11 -3 13 11]\n"
     ]
    }
   ],
   "source": [
    "#25\n",
    "one_dim_array = np.random.randint(-10, 15, (10))\n",
    "print(one_dim_array)\n",
    "one_dim_array[(3<one_dim_array) & (8>one_dim_array)] *= -1\n",
    "print(one_dim_array)"
   ]
  },
  {
   "cell_type": "code",
   "execution_count": 6,
   "metadata": {},
   "outputs": [
    {
     "name": "stdout",
     "output_type": "stream",
     "text": [
      "9\n",
      "10\n"
     ]
    }
   ],
   "source": [
    "#26\n",
    "print(sum(range(5),-1))\n",
    "# from numpy import *\n",
    "# print(sum(range(5),-1))\n",
    "print(np.sum(range(5),-1))"
   ]
  },
  {
   "cell_type": "code",
   "execution_count": 29,
   "metadata": {},
   "outputs": [
    {
     "name": "stdout",
     "output_type": "stream",
     "text": [
      "[0]\n"
     ]
    },
    {
     "data": {
      "text/plain": [
       "array([False])"
      ]
     },
     "execution_count": 29,
     "metadata": {},
     "output_type": "execute_result"
    }
   ],
   "source": [
    "#27\n",
    "Z = np.random.randint(0, 10, (1))\n",
    "print(Z)\n",
    "# Z**Z # negative integer to negative integer power gives non-integer\n",
    "2 << Z >> 2 #left-shift 2 by Z and then right-shift by 2\n",
    "Z <- Z\n",
    "1j*Z\n",
    "Z/1/1\n",
    "Z<Z>Z"
   ]
  },
  {
   "cell_type": "code",
   "execution_count": 35,
   "metadata": {},
   "outputs": [
    {
     "name": "stdout",
     "output_type": "stream",
     "text": [
      "nan\n",
      "0\n",
      "[-9.22337204e+18]\n"
     ]
    },
    {
     "name": "stderr",
     "output_type": "stream",
     "text": [
      "/var/folders/zw/8cs3hp9s53q_p69tftz7xhwr0000gq/T/ipykernel_12882/2273596654.py:3: RuntimeWarning: invalid value encountered in divide\n",
      "  print(np.array(0) / np.array(0))       #nan\n",
      "/var/folders/zw/8cs3hp9s53q_p69tftz7xhwr0000gq/T/ipykernel_12882/2273596654.py:4: RuntimeWarning: divide by zero encountered in floor_divide\n",
      "  print(np.array(0) // np.array(0))     #0\n"
     ]
    }
   ],
   "source": [
    "#28\n",
    "\n",
    "print(np.array(0) / np.array(0))       #nan\n",
    "print(np.array(0) // np.array(0))     #0\n",
    "print(np.array([np.nan]).astype(int).astype(float))    #some random number\n"
   ]
  },
  {
   "cell_type": "code",
   "execution_count": 44,
   "metadata": {},
   "outputs": [
    {
     "name": "stdout",
     "output_type": "stream",
     "text": [
      "[ -1.47896025 -24.96261024 -10.6599523   -9.76176066 -31.48853047\n",
      "  35.01984979  31.03725116  64.98069683 -76.63266409  72.44159678]\n"
     ]
    },
    {
     "data": {
      "text/plain": [
       "array([ -2., -25., -11., -10., -32.,  36.,  32.,  65., -77.,  73.])"
      ]
     },
     "execution_count": 44,
     "metadata": {},
     "output_type": "execute_result"
    }
   ],
   "source": [
    "#29\n",
    "example_array = np.random.uniform(-100, 100, 10)\n",
    "print(example_array)\n",
    "np.where(example_array>0, np.ceil(example_array), np.floor(example_array))"
   ]
  },
  {
   "cell_type": "code",
   "execution_count": 58,
   "metadata": {},
   "outputs": [
    {
     "name": "stdout",
     "output_type": "stream",
     "text": [
      "[ 9  1  5 13  4  2  5 11 13 17]\n",
      "[ 9 13  8 12 16 16  2  0 12  1]\n"
     ]
    },
    {
     "data": {
      "text/plain": [
       "array([ 1,  2,  9, 13])"
      ]
     },
     "execution_count": 58,
     "metadata": {},
     "output_type": "execute_result"
    }
   ],
   "source": [
    "#30\n",
    "a = np.random.randint(0, 20, 10)\n",
    "b = np.random.randint(0, 20, 10)\n",
    "print(a)\n",
    "print(b)\n",
    "np.intersect1d(a, b)"
   ]
  },
  {
   "cell_type": "code",
   "execution_count": null,
   "metadata": {},
   "outputs": [],
   "source": []
  }
 ],
 "metadata": {
  "kernelspec": {
   "display_name": "base",
   "language": "python",
   "name": "python3"
  },
  "language_info": {
   "codemirror_mode": {
    "name": "ipython",
    "version": 3
   },
   "file_extension": ".py",
   "mimetype": "text/x-python",
   "name": "python",
   "nbconvert_exporter": "python",
   "pygments_lexer": "ipython3",
   "version": "3.9.12 (main, Apr  5 2022, 01:53:17) \n[Clang 12.0.0 ]"
  },
  "orig_nbformat": 4,
  "vscode": {
   "interpreter": {
    "hash": "fee5ff9f2ff06ea6a44b7839303a5892d23367d47301ba3acd9f75263fd911e1"
   }
  }
 },
 "nbformat": 4,
 "nbformat_minor": 2
}
