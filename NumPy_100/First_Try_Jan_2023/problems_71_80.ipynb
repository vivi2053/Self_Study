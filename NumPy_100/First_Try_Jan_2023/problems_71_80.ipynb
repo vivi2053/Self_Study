{
 "cells": [
  {
   "cell_type": "code",
   "execution_count": 1,
   "metadata": {},
   "outputs": [],
   "source": [
    "#### 71. Consider an array of dimension (5,5,3), how to mulitply it by an array with dimensions (5,5)? (★★★)\n",
    "\n",
    "#### 72. How to swap two rows of an array? (★★★)\n",
    "\n",
    "#### 73. Consider a set of 10 triplets describing 10 triangles (with shared vertices), find the set of unique line segments composing all the  triangles (★★★)\n",
    "\n",
    "#### 74. Given a sorted array C that corresponds to a bincount, how to produce an array A such that np.bincount(A) == C? (★★★)\n",
    "\n",
    "#### 75. How to compute averages using a sliding window over an array? (★★★)\n",
    "\n",
    "#### 76. Consider a one-dimensional array Z, build a two-dimensional array whose first row is (Z[0],Z[1],Z[2]) and each subsequent row is  shifted by 1 (last row should be (Z[-3],Z[-2],Z[-1]) (★★★)\n",
    "\n",
    "#### 77. How to negate a boolean, or to change the sign of a float inplace? (★★★)\n",
    "\n",
    "#### 78. Consider 2 sets of points P0,P1 describing lines (2d) and a point p, how to compute distance from p to each line i (P0[i],P1[i])? (★★★)\n",
    "\n",
    "#### 79. Consider 2 sets of points P0,P1 describing lines (2d) and a set of points P, how to compute distance from each point j (P[j]) to each line i (P0[i],P1[i])? (★★★)\n",
    "\n",
    "#### 80. Consider an arbitrary array, write a function that extract a subpart with a fixed shape and centered on a given element (pad with a `fill` value when necessary) (★★★)"
   ]
  },
  {
   "cell_type": "code",
   "execution_count": 56,
   "metadata": {},
   "outputs": [],
   "source": [
    "import numpy as np"
   ]
  },
  {
   "cell_type": "code",
   "execution_count": 8,
   "metadata": {},
   "outputs": [
    {
     "name": "stdout",
     "output_type": "stream",
     "text": [
      "[[[0.01221519 0.00210556 0.01465449]\n",
      "  [0.107672   0.04466066 0.39043199]\n",
      "  [0.23084361 0.30355058 0.10849954]\n",
      "  [0.12635157 0.1054929  0.1119361 ]\n",
      "  [0.10743211 0.26488618 0.21992891]]\n",
      "\n",
      " [[0.45780421 0.57105547 0.20289465]\n",
      "  [0.02953706 0.44066629 0.48670194]\n",
      "  [0.4167123  0.35864032 0.02067979]\n",
      "  [0.03549533 0.05842049 0.04718965]\n",
      "  [0.84952924 0.48351051 0.62446983]]\n",
      "\n",
      " [[0.03077867 0.03573011 0.02987542]\n",
      "  [0.01981632 0.0114922  0.03594303]\n",
      "  [0.50810886 0.5730902  0.59833285]\n",
      "  [0.00230062 0.00387493 0.00527454]\n",
      "  [0.0597263  0.34982951 0.58311418]]\n",
      "\n",
      " [[0.13766959 0.218378   0.11092094]\n",
      "  [0.750296   0.69879035 0.86729446]\n",
      "  [0.08651573 0.15439243 0.0983143 ]\n",
      "  [0.09599017 0.02131906 0.04245634]\n",
      "  [0.77605135 0.8006781  0.5903107 ]]\n",
      "\n",
      " [[0.08189123 0.09220897 0.05708414]\n",
      "  [0.18689563 0.15630759 0.65508379]\n",
      "  [0.19221842 0.08295271 0.33691478]\n",
      "  [0.60071057 0.48081355 0.16068431]\n",
      "  [0.43442584 0.51140629 0.39484613]]]\n"
     ]
    }
   ],
   "source": [
    "#71\n",
    "\n",
    "A = np.random.rand(5, 5, 3)\n",
    "B = np.random.rand(5, 5)\n",
    "\n",
    "product = A * B[:,:, None]\n",
    "print(product)"
   ]
  },
  {
   "cell_type": "code",
   "execution_count": 13,
   "metadata": {},
   "outputs": [
    {
     "name": "stdout",
     "output_type": "stream",
     "text": [
      "A before\n",
      "[[0.26678252 0.83401601 0.76646706 0.5358768 ]\n",
      " [0.68743908 0.15792412 0.67412461 0.15146115]]\n",
      "\n",
      "A after\n",
      "[[0.68743908 0.15792412 0.67412461 0.15146115]\n",
      " [0.26678252 0.83401601 0.76646706 0.5358768 ]]\n"
     ]
    }
   ],
   "source": [
    "#72\n",
    "\n",
    "A = np.random.rand(2, 4)\n",
    "print('A before')\n",
    "print(A)\n",
    "print()\n",
    "A[[0, 1]] = A[[1, 0]]\n",
    "print('A after')\n",
    "print(A)"
   ]
  },
  {
   "cell_type": "code",
   "execution_count": 15,
   "metadata": {},
   "outputs": [
    {
     "name": "stdout",
     "output_type": "stream",
     "text": [
      "[( 2, 18) ( 2, 31) (13, 18) (13, 42) (14, 51) (14, 76) (18, 31) (18, 42)\n",
      " (25, 67) (25, 76) (29, 34) (29, 99) (34, 99) (41, 67) (41, 91) (43, 46)\n",
      " (43, 80) (46, 80) (51, 76) (57, 74) (57, 90) (62, 66) (62, 89) (66, 89)\n",
      " (67, 76) (67, 91) (71, 92) (71, 99) (74, 90) (92, 99)]\n",
      "(30,)\n"
     ]
    }
   ],
   "source": [
    "#73 WTH\n",
    "faces = np.random.randint(0,100,(10,3))\n",
    "F = np.roll(faces.repeat(2,axis=1),-1,axis=1)\n",
    "F = F.reshape(len(F)*3,2)\n",
    "F = np.sort(F,axis=1)\n",
    "G = F.view( dtype=[('p0',F.dtype),('p1',F.dtype)] )\n",
    "G = np.unique(G)\n",
    "print(G)\n",
    "print(G.shape)"
   ]
  },
  {
   "cell_type": "code",
   "execution_count": 31,
   "metadata": {},
   "outputs": [
    {
     "name": "stdout",
     "output_type": "stream",
     "text": [
      "[10  9  5  7 17 10 11 10  8 13]\n",
      "[10  9  5  7 17 10 11 10  8 13]\n"
     ]
    }
   ],
   "source": [
    "#74\n",
    "A = np.random.randint(0, 10, (100))\n",
    "C = np.bincount(A)\n",
    "A_ = np.repeat(np.arange(len(C)), C)\n",
    "print(np.bincount(A))\n",
    "print(np.bincount(A_))\n"
   ]
  },
  {
   "cell_type": "code",
   "execution_count": 53,
   "metadata": {},
   "outputs": [
    {
     "name": "stdout",
     "output_type": "stream",
     "text": [
      "[ 1.  2.  3.  4.  5.  6.  7.  8.  9. 10. 11. 12. 13. 14. 15. 16. 17. 18.]\n"
     ]
    }
   ],
   "source": [
    "#75\n",
    "\n",
    "n = 3\n",
    "A = np.arange(20)\n",
    "B = np.cumsum(A, dtype=float)\n",
    "B[n:] = B[n:] - B[:-n]\n",
    "print(B[n-1:]/n)\n"
   ]
  },
  {
   "cell_type": "code",
   "execution_count": 64,
   "metadata": {},
   "outputs": [
    {
     "name": "stdout",
     "output_type": "stream",
     "text": [
      "[[ 0  1  2]\n",
      " [ 1  2  3]\n",
      " [ 2  3  4]\n",
      " [ 3  4  5]\n",
      " [ 4  5  6]\n",
      " [ 5  6  7]\n",
      " [ 6  7  8]\n",
      " [ 7  8  9]\n",
      " [ 8  9 10]\n",
      " [ 9 10 11]\n",
      " [10 11 12]\n",
      " [11 12 13]\n",
      " [12 13 14]\n",
      " [13 14 15]\n",
      " [14 15 16]\n",
      " [15 16 17]\n",
      " [16 17 18]\n",
      " [17 18 19]]\n"
     ]
    }
   ],
   "source": [
    "#76\n",
    "\n",
    "from numpy.lib.stride_tricks import sliding_window_view\n",
    "n=3\n",
    "A = np.arange(20)\n",
    "B = sliding_window_view(A, 3)\n",
    "print(B)"
   ]
  },
  {
   "cell_type": "code",
   "execution_count": 82,
   "metadata": {},
   "outputs": [
    {
     "name": "stdout",
     "output_type": "stream",
     "text": [
      "[[1 2 3 2]\n",
      " [0 4 4 2]\n",
      " [1 0 1 0]\n",
      " [1 0 4 0]]\n",
      "[[-1 -2 -3 -2]\n",
      " [ 0 -4 -4 -2]\n",
      " [-1  0 -1  0]\n",
      " [-1  0 -4  0]]\n",
      "[[False False False False]\n",
      " [ True False False False]\n",
      " [False  True False  True]\n",
      " [False  True False  True]]\n"
     ]
    }
   ],
   "source": [
    "#77\n",
    "A = np.random.uniform(0, 5, (4, 4))\n",
    "B = np.random.randint(0, 5, (4, 4))\n",
    "\n",
    "\n",
    "#for float\n",
    "A_not = np.negative(A)\n",
    "B_not = np.negative(B)\n",
    "\n",
    "#for boolean\n",
    "B_logic_not = np.logical_not(B)\n",
    "\n",
    "print(B)\n",
    "print(B_not)\n",
    "print(B_logic_not)"
   ]
  },
  {
   "cell_type": "code",
   "execution_count": 96,
   "metadata": {},
   "outputs": [
    {
     "data": {
      "text/plain": [
       "array([13.21157078, 10.22729073,  3.73406405,  0.46802283,  4.96486716,\n",
       "        9.34109834,  0.42838135,  0.63928263,  7.38257216,  7.20494073])"
      ]
     },
     "execution_count": 96,
     "metadata": {},
     "output_type": "execute_result"
    }
   ],
   "source": [
    "#78\n",
    "\n",
    "def distance(P0, P1, p):\n",
    "    T = P1 - P0\n",
    "    L = (T**2).sum(axis=1)\n",
    "    U = -((P0[:,0]-p[...,0])*T[:,0] + (P0[:,1]-p[...,1])*T[:,1]) / L\n",
    "    U = U.reshape(len(U),1)\n",
    "    D = P0 + U*T - p\n",
    "    return np.sqrt((D**2).sum(axis=1))\n",
    "\n",
    "P0 = np.random.uniform(-10, 10, (10, 2))\n",
    "P1 = np.random.uniform(-10, 10, (10, 2))\n",
    "p = np.random.uniform(-10, 10, (1, 2))\n",
    "\n",
    "distance(P0, P1, p)"
   ]
  },
  {
   "cell_type": "code",
   "execution_count": 97,
   "metadata": {},
   "outputs": [
    {
     "name": "stdout",
     "output_type": "stream",
     "text": [
      "[[5.14686822e+00 2.71381957e+00 9.85391177e+00 3.20767966e+00\n",
      "  1.86815518e+00 9.27297986e-01 1.03900501e+01 2.29990750e+00\n",
      "  1.25866644e+01 6.24935517e+00]\n",
      " [9.90610187e+00 1.94941199e+00 5.01930122e+00 5.95482837e+00\n",
      "  2.91141563e+00 2.85790281e+00 5.16219616e+00 6.28640814e+00\n",
      "  7.25721725e+00 1.32106028e+00]\n",
      " [3.78982524e+00 3.51133434e+00 1.07215336e+01 3.03998009e+00\n",
      "  3.22619137e+00 2.16415855e-02 1.14471954e+01 1.01480140e+00\n",
      "  1.39204389e+01 7.15757034e+00]\n",
      " [8.70557926e+00 5.72362138e+00 1.24762567e+01 2.25384494e+00\n",
      "  1.64709324e+00 7.23531044e+00 1.17734885e+01 7.09252094e+00\n",
      "  1.08706047e+01 8.63219267e+00]\n",
      " [8.30244839e+00 3.23005285e+00 3.91023929e+00 8.32841655e+00\n",
      "  1.32666435e+00 7.19876002e-02 4.60041617e+00 4.14782283e+00\n",
      "  8.05694558e+00 3.17953609e-01]\n",
      " [1.11477469e+01 4.56575533e+00 2.41411549e+00 8.29082327e+00\n",
      "  4.17100703e+00 2.31352727e+00 2.65798997e+00 6.93611311e+00\n",
      "  5.37793761e+00 1.27205718e+00]\n",
      " [2.27308308e+01 6.40482568e+00 2.21652993e-01 3.97486110e+00\n",
      "  1.57177030e+01 1.41331133e+01 2.31801014e+00 1.92906206e+01\n",
      "  4.27137828e+00 4.38389603e+00]\n",
      " [1.33593786e+01 8.25469958e+00 1.29372349e+00 1.13280626e+01\n",
      "  6.40583349e+00 2.07114900e+00 1.01124755e+00 8.36424101e+00\n",
      "  2.36978272e+00 4.98373499e+00]\n",
      " [1.68813173e+01 7.94161910e+00 1.25770145e+00 9.00668035e+00\n",
      "  9.90883098e+00 6.31810482e+00 1.81365259e+00 1.23639827e+01\n",
      "  2.59531720e-01 5.11521779e+00]\n",
      " [1.49083637e+01 1.11997032e+01 4.23753829e+00 1.38732979e+01\n",
      "  7.97432688e+00 1.63084212e+00 3.87547519e+00 9.26371056e+00\n",
      "  1.36728450e-01 7.92081364e+00]]\n"
     ]
    }
   ],
   "source": [
    "#79\n",
    "\n",
    "def distance(P0, P1, p):\n",
    "    T = P1 - P0\n",
    "    L = (T**2).sum(axis=1)\n",
    "    U = -((P0[:,0]-p[...,0])*T[:,0] + (P0[:,1]-p[...,1])*T[:,1]) / L\n",
    "    U = U.reshape(len(U),1)\n",
    "    D = P0 + U*T - p\n",
    "    return np.sqrt((D**2).sum(axis=1))\n",
    "\n",
    "P0 = np.random.uniform(-10, 10, (10, 2))\n",
    "P1 = np.random.uniform(-10, 10, (10, 2))\n",
    "p = np.random.uniform(-10, 10, (10, 2))\n",
    "\n",
    "print(np.array([distance(P0, P1, p[i, :]) for i in range(10)])) "
   ]
  },
  {
   "cell_type": "code",
   "execution_count": 98,
   "metadata": {},
   "outputs": [
    {
     "ename": "IndexError",
     "evalue": "only integers, slices (`:`), ellipsis (`...`), numpy.newaxis (`None`) and integer or boolean arrays are valid indices",
     "output_type": "error",
     "traceback": [
      "\u001b[0;31m---------------------------------------------------------------------------\u001b[0m",
      "\u001b[0;31mIndexError\u001b[0m                                Traceback (most recent call last)",
      "\u001b[1;32m/Users/vipul/Documents/Personal/Personal_Projects/Self Study/NumPy 100/problems_71_80.ipynb Cell 12\u001b[0m in \u001b[0;36m2\n\u001b[1;32m     <a href='vscode-notebook-cell:/Users/vipul/Documents/Personal/Personal_Projects/Self%20Study/NumPy%20100/problems_71_80.ipynb#X14sZmlsZQ%3D%3D?line=22'>23</a>\u001b[0m r \u001b[39m=\u001b[39m [\u001b[39mslice\u001b[39m(start,stop) \u001b[39mfor\u001b[39;00m start,stop \u001b[39min\u001b[39;00m \u001b[39mzip\u001b[39m(R_start,R_stop)]\n\u001b[1;32m     <a href='vscode-notebook-cell:/Users/vipul/Documents/Personal/Personal_Projects/Self%20Study/NumPy%20100/problems_71_80.ipynb#X14sZmlsZQ%3D%3D?line=23'>24</a>\u001b[0m z \u001b[39m=\u001b[39m [\u001b[39mslice\u001b[39m(start,stop) \u001b[39mfor\u001b[39;00m start,stop \u001b[39min\u001b[39;00m \u001b[39mzip\u001b[39m(Z_start,Z_stop)]\n\u001b[0;32m---> <a href='vscode-notebook-cell:/Users/vipul/Documents/Personal/Personal_Projects/Self%20Study/NumPy%20100/problems_71_80.ipynb#X14sZmlsZQ%3D%3D?line=24'>25</a>\u001b[0m R[r] \u001b[39m=\u001b[39m Z[z]\n\u001b[1;32m     <a href='vscode-notebook-cell:/Users/vipul/Documents/Personal/Personal_Projects/Self%20Study/NumPy%20100/problems_71_80.ipynb#X14sZmlsZQ%3D%3D?line=25'>26</a>\u001b[0m \u001b[39mprint\u001b[39m(Z)\n\u001b[1;32m     <a href='vscode-notebook-cell:/Users/vipul/Documents/Personal/Personal_Projects/Self%20Study/NumPy%20100/problems_71_80.ipynb#X14sZmlsZQ%3D%3D?line=26'>27</a>\u001b[0m \u001b[39mprint\u001b[39m(R)\n",
      "\u001b[0;31mIndexError\u001b[0m: only integers, slices (`:`), ellipsis (`...`), numpy.newaxis (`None`) and integer or boolean arrays are valid indices"
     ]
    }
   ],
   "source": [
    "#80\n",
    "\n",
    "Z = np.random.randint(0,10,(10,10))\n",
    "shape = (5,5)\n",
    "fill  = 0\n",
    "position = (1,1)\n",
    "\n",
    "R = np.full(shape, fill, dtype=Z.dtype)\n",
    "P  = np.array(list(position)).astype(int)\n",
    "Rs = np.array(list(R.shape)).astype(int)\n",
    "Zs = np.array(list(Z.shape)).astype(int)\n",
    "\n",
    "R_start = np.zeros((len(shape),)).astype(int)\n",
    "R_stop  = np.array(list(shape)).astype(int)\n",
    "Z_start = (P-Rs//2)\n",
    "Z_stop  = (P+Rs//2)+Rs%2\n",
    "\n",
    "R_start = (R_start - np.minimum(Z_start,0)).tolist()\n",
    "Z_start = (np.maximum(Z_start,0)).tolist()\n",
    "R_stop = np.maximum(R_start, (R_stop - np.maximum(Z_stop-Zs,0))).tolist()\n",
    "Z_stop = (np.minimum(Z_stop,Zs)).tolist()\n",
    "\n",
    "r = [slice(start,stop) for start,stop in zip(R_start,R_stop)]\n",
    "z = [slice(start,stop) for start,stop in zip(Z_start,Z_stop)]\n",
    "R[r] = Z[z]\n",
    "print(Z)\n",
    "print(R)"
   ]
  },
  {
   "cell_type": "code",
   "execution_count": null,
   "metadata": {},
   "outputs": [],
   "source": []
  }
 ],
 "metadata": {
  "kernelspec": {
   "display_name": "base",
   "language": "python",
   "name": "python3"
  },
  "language_info": {
   "codemirror_mode": {
    "name": "ipython",
    "version": 3
   },
   "file_extension": ".py",
   "mimetype": "text/x-python",
   "name": "python",
   "nbconvert_exporter": "python",
   "pygments_lexer": "ipython3",
   "version": "3.9.12"
  },
  "orig_nbformat": 4
 },
 "nbformat": 4,
 "nbformat_minor": 2
}
